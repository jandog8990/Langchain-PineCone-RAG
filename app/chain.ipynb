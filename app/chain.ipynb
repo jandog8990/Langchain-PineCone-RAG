{
 "cells": [
  {
   "cell_type": "code",
   "execution_count": 14,
   "metadata": {},
   "outputs": [],
   "source": [
    "from pinecone import Pinecone as PineconeClient\n",
    "from pinecone.grpc import PineconeGRPC\n",
    "from pinecone import ServerlessSpec\n",
    "from dotenv import dotenv_values\n",
    "# from langchain_community.chat_models import ChatOpenAI\n",
    "from langchain_openai import ChatOpenAI\n",
    "#from langchain_community.embeddings import CohereEmbeddings\n",
    "from langchain_cohere import CohereEmbeddings\n",
    "from langchain_community.vectorstores import Pinecone \n",
    "from langchain_core.output_parsers import StrOutputParser\n",
    "from langchain_core.prompts import ChatPromptTemplate\n",
    "from langchain_core.runnables import RunnableParallel, RunnablePassthrough, RunnableLambda\n",
    "import requests\n",
    "import json\n",
    "import ray"
   ]
  },
  {
   "cell_type": "markdown",
   "metadata": {},
   "source": [
    "connecto to pinecone api"
   ]
  },
  {
   "cell_type": "code",
   "execution_count": 8,
   "metadata": {},
   "outputs": [
    {
     "name": "stdout",
     "output_type": "stream",
     "text": [
      "openai key = sk-proj-3YRWRWnvcDDLVT9Ob3yQT3BlbkFJFBjjYn2yJfNoOZ1pFL0f\n"
     ]
    }
   ],
   "source": [
    "config = dotenv_values(\".env\")\n",
    "env_key = config[\"PINE_CONE_ENV_KEY\"]\n",
    "api_key = config[\"PINE_CONE_API_KEY\"]\n",
    "openai_api_key=config[\"OPENAI_API_KEY\"]\n",
    "cohere_api_key = config[\"COHERE_API_KEY\"]\n",
    "#pc_index = config[\"INDEX_NAME\"]\n",
    "print(f\"openai key = {openai_api_key}\")"
   ]
  },
  {
   "cell_type": "markdown",
   "metadata": {},
   "source": [
    "pinecone client and embeddings"
   ]
  },
  {
   "cell_type": "code",
   "execution_count": 9,
   "metadata": {},
   "outputs": [],
   "source": [
    "pineCone = PineconeClient(\n",
    "    api_key=api_key\n",
    ")"
   ]
  },
  {
   "cell_type": "markdown",
   "metadata": {},
   "source": [
    "start to load the data"
   ]
  },
  {
   "cell_type": "code",
   "execution_count": 4,
   "metadata": {},
   "outputs": [
    {
     "name": "stderr",
     "output_type": "stream",
     "text": [
      "/home/jandogonzales/Development/anaconda3/envs/trailz/lib/python3.11/site-packages/ray/data/datasource/parquet_datasource.py:242: FutureWarning: Passing 'use_legacy_dataset' is deprecated as of pyarrow 15.0.0 and will be removed in a future version.\n",
      "  pq_ds = pq.ParquetDataset(\n"
     ]
    },
    {
     "data": {
      "application/vnd.jupyter.widget-view+json": {
       "model_id": "",
       "version_major": 2,
       "version_minor": 0
      },
      "text/plain": [
       "Metadata Fetch Progress 0:   0%|          | 0/16 [00:00<?, ?it/s]"
      ]
     },
     "metadata": {},
     "output_type": "display_data"
    },
    {
     "name": "stderr",
     "output_type": "stream",
     "text": [
      "2024-04-18 12:43:00,187\tINFO worker.py:1715 -- Started a local Ray instance. View the dashboard at \u001b[1m\u001b[32mhttp://127.0.0.1:8265 \u001b[39m\u001b[22m\n"
     ]
    },
    {
     "data": {
      "application/vnd.jupyter.widget-view+json": {
       "model_id": "",
       "version_major": 2,
       "version_minor": 0
      },
      "text/plain": [
       "Parquet Files Sample 0:   0%|          | 0/2 [00:00<?, ?it/s]"
      ]
     },
     "metadata": {},
     "output_type": "display_data"
    },
    {
     "name": "stdout",
     "output_type": "stream",
     "text": [
      "Dataset:\n",
      "Dataset(\n",
      "   num_blocks=792,\n",
      "   num_rows=13761396,\n",
      "   schema={\n",
      "      id: int32,\n",
      "      title: string,\n",
      "      text: string,\n",
      "      url: string,\n",
      "      emb: list<item: float>\n",
      "   }\n",
      ")\n",
      "\n",
      "\n"
     ]
    },
    {
     "name": "stderr",
     "output_type": "stream",
     "text": [
      "\u001b[36m(ReadParquet pid=264919)\u001b[0m /home/jandogonzales/Development/anaconda3/envs/trailz/lib/python3.11/site-packages/ray/data/_internal/arrow_block.py:148: FutureWarning: promote has been superseded by promote_options='default'.\n",
      "\u001b[36m(ReadParquet pid=264919)\u001b[0m   return transform_pyarrow.concat(tables)\n",
      "\u001b[36m(ReadParquet pid=265442)\u001b[0m /home/jandogonzales/Development/anaconda3/envs/trailz/lib/python3.11/site-packages/ray/data/_internal/arrow_block.py:148: FutureWarning: promote has been superseded by promote_options='default'.\n",
      "\u001b[36m(ReadParquet pid=265442)\u001b[0m   return transform_pyarrow.concat(tables)\n"
     ]
    }
   ],
   "source": [
    "url = \"https://huggingface.co/api/datasets/Cohere/wikipedia-22-12-en-embeddings/parquet/default/train\"\n",
    "response = requests.get(url)\n",
    "input_files = json.loads(response.content)\n",
    "columns = ['id', 'title', 'text', 'url', 'emb']\n",
    "ds = ray.data.read_parquet(input_files[1:100], columns=columns) \n",
    "print(\"Dataset:\")\n",
    "print(ds)\n",
    "print(\"\\n\")"
   ]
  },
  {
   "cell_type": "code",
   "execution_count": 5,
   "metadata": {},
   "outputs": [
    {
     "name": "stderr",
     "output_type": "stream",
     "text": [
      "2024-04-18 13:25:06,961\tINFO set_read_parallelism.py:115 -- Using autodetected parallelism=744 for stage ReadParquet to satisfy output blocks of size at most DataContext.get_current().target_max_block_size=128.0MiB.\n",
      "2024-04-18 13:25:06,962\tINFO streaming_executor.py:112 -- Executing DAG InputDataBuffer[Input] -> TaskPoolMapOperator[ReadParquet]\n",
      "2024-04-18 13:25:06,963\tINFO streaming_executor.py:113 -- Execution config: ExecutionOptions(resource_limits=ExecutionResources(cpu=None, gpu=None, object_store_memory=None), exclude_resources=ExecutionResources(cpu=0, gpu=0, object_store_memory=0), locality_with_output=False, preserve_order=False, actor_locality_enabled=True, verbose_progress=False)\n",
      "2024-04-18 13:25:06,964\tINFO streaming_executor.py:115 -- Tip: For detailed progress reporting, run `ray.data.DataContext.get_current().execution_options.verbose_progress = True`\n"
     ]
    },
    {
     "data": {
      "application/vnd.jupyter.widget-view+json": {
       "model_id": "",
       "version_major": 2,
       "version_minor": 0
      },
      "text/plain": [
       "Running 0:   0%|          | 0/99 [00:00<?, ?it/s]"
      ]
     },
     "metadata": {},
     "output_type": "display_data"
    },
    {
     "name": "stdout",
     "output_type": "stream",
     "text": [
      "{'id': 139004, 'title': 'Papua New Guinea', 'text': 'There are several active volcanoes, and eruptions are frequent. Earthquakes are relatively common, sometimes accompanied by tsunamis. On 25 February 2018, an earthquake of magnitude 7.5 and depth of 35 kilometres struck the middle of Papua New Guinea. The worst of the damage was centred around the Southern Highlands region. Papua New Guinea is one of the few regions close to the equator that experience snowfall, which occurs in the most elevated parts of the mainland.', 'url': 'https://en.wikipedia.org/wiki?curid=22943', 'emb': [0.34855830669403076, -0.3931165635585785, -0.48193711042404175, 0.11413213610649109, -0.052384376525878906, -0.19725455343723297, 0.1848202496767044, -0.2045878916978836, 0.23143094778060913, 0.4025367200374603, -0.4508623480796814, 0.028451789170503616, -0.22486717998981476, -0.5817099213600159, -0.1718149185180664, 0.2288116067647934, 0.28102022409439087, 0.29903554916381836, -0.4376875162124634, -0.1948171854019165, -0.5428544878959656, 1.0407284498214722, 0.06056656688451767, 0.04289814829826355, 0.029322698712348938, -0.015996484085917473, 0.07139696180820465, 0.1273607611656189, -0.40480759739875793, 0.14985404908657074, 0.17547966539859772, 0.35397621989250183, 0.18552839756011963, 0.8112912774085999, 0.13780829310417175, 0.24255259335041046, -0.430520236492157, 0.38159283995628357, 0.5896884799003601, -0.18650786578655243, 0.07845678180456161, 0.44728776812553406, 0.09540805965662003, -0.2261093705892563, 0.3563680052757263, 0.4025881290435791, 0.29690438508987427, -0.34273019433021545, 0.47619274258613586, -0.1295781433582306, 0.1349262148141861, -0.8140534162521362, -0.3576594293117523, -0.03453202545642853, 0.5549711585044861, 0.13885000348091125, -0.04022561013698578, 0.8201904296875, -0.496643602848053, 0.08531875163316727, 0.1682603806257248, 0.17808490991592407, -0.371579647064209, -0.19350522756576538, 0.09138140827417374, -0.419095516204834, -0.07783131301403046, 0.3457610607147217, 0.16992038488388062, 0.565528392791748, -0.6646968126296997, 0.8622161149978638, 0.12684372067451477, 0.3490208685398102, -0.30073824524879456, -0.33227673172950745, 0.2672032117843628, 0.5778518319129944, 0.7049201726913452, -0.18831604719161987, 0.17620673775672913, 0.12067270278930664, -0.21577049791812897, 0.365215539932251, -0.021618880331516266, 0.5368269085884094, -0.19174104928970337, 0.031453121453523636, -0.08975007385015488, 0.49673882126808167, 0.02966553531587124, 0.2606085538864136, 0.06203611567616463, -0.4466114342212677, 0.33305445313453674, 0.3437718451023102, 0.35281044244766235, -1.0603362321853638, -0.43706443905830383, -0.09997551143169403, 0.32864201068878174, -0.27747151255607605, -0.207207590341568, 0.4781668484210968, -0.24031463265419006, -0.3410964608192444, -0.6133219599723816, 0.23333871364593506, -0.26598837971687317, -0.02091282419860363, -0.1378324329853058, -0.2420095056295395, -0.20058976113796234, -0.4379134774208069, -0.14121964573860168, -0.44132307171821594, -0.11682862043380737, 0.05009276419878006, 0.07724973559379578, -1.3346641063690186, 0.18869373202323914, 0.7315195202827454, -0.313046932220459, -0.21391965448856354, 0.04246633127331734, 0.05954819917678833, 0.5452510118484497, -0.42229679226875305, 0.632570743560791, -0.06526483595371246, 0.2832351624965668, 0.22138027846813202, 0.09162085503339767, 0.6686365604400635, 0.012646270915865898, 0.2554120719432831, 0.6131591796875, -0.12676343321800232, -0.4248329699039459, -0.3479153513908386, -0.5579742789268494, -0.4728267788887024, 0.497891366481781, 0.7471988201141357, 0.22282084822654724, 0.20492343604564667, 0.17089596390724182, 0.04100994020700455, 0.055487774312496185, 0.024952419102191925, 0.32916760444641113, 0.14559490978717804, -0.37205877900123596, 0.7356842756271362, -0.7607457637786865, -0.4292200207710266, 0.33648985624313354, 0.3424094617366791, -0.17633827030658722, 0.5062003135681152, 0.6774806380271912, 0.17201855778694153, -0.5112340450286865, -0.6079750657081604, 0.059073224663734436, 0.025768710300326347, 0.11988206207752228, 0.7266498804092407, 0.4473658502101898, -0.4135592579841614, -0.1656678169965744, 0.22741010785102844, 0.15982379019260406, -0.7952497601509094, 0.04230933636426926, 0.17558011412620544, 0.24153466522693634, -0.4745675027370453, 0.08435720205307007, 0.7050266861915588, 0.3249422013759613, -0.03362034261226654, 0.10616697371006012, 0.07222183048725128, 0.8827119469642639, 0.22957880795001984, 0.8261159062385559, 0.14009983837604523, -0.31564974784851074, -0.18158788979053497, 0.28875237703323364, -0.21517540514469147, 0.7484831213951111, -0.9058109521865845, 0.21331264078617096, -0.11414125561714172, 0.017643164843320847, 0.15448029339313507, -0.29493510723114014, 0.1393010914325714, 0.33068203926086426, -0.1978941708803177, -0.08861842751502991, 0.22448775172233582, 0.8208606243133545, -0.6545193195343018, 0.013243656605482101, 0.29791492223739624, -0.39532291889190674, -0.4078207314014435, -0.4711388945579529, 0.004687197040766478, -0.17242419719696045, -0.24537724256515503, 0.07464735954999924, -0.09593911468982697, 0.12320604175329208, 0.10727338492870331, 0.3236021101474762, -0.30088871717453003, 0.03380482643842697, 0.5724122524261475, 0.35659894347190857, -0.48897284269332886, 0.1795874536037445, 0.2234254777431488, -0.4884401261806488, -0.4388463497161865, -0.2579874098300934, -0.18730421364307404, 0.36087727546691895, 0.22164268791675568, 0.011957797221839428, 0.12227099388837814, -0.14335589110851288, 0.7739066481590271, 0.15997886657714844, 0.1995970755815506, 0.14120055735111237, -0.06048404425382614, 0.506995677947998, 0.23339250683784485, -0.0804884135723114, -0.190310999751091, 0.4826480746269226, -0.31442761421203613, 0.3031996488571167, 0.03003678098320961, 0.026886295527219772, 0.47323906421661377, -0.21628177165985107, -0.053234849125146866, -0.36889970302581787, 0.4495864510536194, -0.6085959076881409, 0.8117508292198181, 0.19389432668685913, -0.4743504226207733, 0.03088156320154667, 0.03905874118208885, 0.8159360885620117, -0.05471171438694, 0.5600944757461548, 0.0542813278734684, -0.4122130572795868, -0.17690472304821014, 0.1678968071937561, 0.30477216839790344, 0.34200504422187805, 0.12841957807540894, -0.07328587025403976, -0.0726218894124031, 0.07366840541362762, 0.6178533434867859, -0.2863985002040863, 0.3298914432525635, 0.13447485864162445, 0.38753989338874817, -0.4699946343898773, 0.5050251483917236, 0.24825923144817352, 0.26479244232177734, 0.10792580991983414, 0.19608348608016968, -0.8054399490356445, 0.07457740604877472, 0.2705341577529907, -0.2370176911354065, -0.947638988494873, -0.09550805389881134, 0.42844510078430176, 0.6006768941879272, 0.15193592011928558, -0.24277754127979279, -0.09054910391569138, 0.030051294714212418, 0.3299417197704315, 0.1461283415555954, 0.3137972354888916, -0.1986401081085205, 0.8474866151809692, -0.3229890763759613, 0.7516365647315979, -0.005328767467290163, -0.003126275260001421, 0.1952059119939804, 0.1633974313735962, 0.5050623416900635, 0.36036980152130127, 0.35387247800827026, 0.3932534158229828, -0.2064550668001175, -0.1547941267490387, 0.038437675684690475, 0.034047406166791916, 0.1679517775774002, 0.4889400601387024, -0.2581895589828491, 0.3478442132472992, 0.46729040145874023, 0.021650725975632668, 0.32417747378349304, -0.4800157845020294, 0.1937369853258133, 0.12903718650341034, -0.9584760665893555, 0.29639166593551636, -0.46994197368621826, 0.5093086361885071, 0.2604071795940399, 0.05133797228336334, 0.20960867404937744, -0.4164341986179352, -0.554015040397644, 0.11199309676885605, 0.26930031180381775, 0.5704101324081421, 0.5737245082855225, -0.23340417444705963, -0.13757029175758362, 0.6353517174720764, 0.6719647645950317, -0.1377173364162445, 0.20457009971141815, 0.27495110034942627, 0.3887125551700592, 0.23629172146320343, -0.10096856951713562, 0.2865750789642334, -0.40678733587265015, 0.04813646897673607, 0.07931902259588242, 0.017335448414087296, -0.1840878129005432, -0.061360713094472885, -0.08909483253955841, 0.1702684462070465, 0.4164632260799408, 0.8653301000595093, -0.17676125466823578, 0.26569339632987976, 0.40255528688430786, 0.17550480365753174, 0.10641895234584808, 0.5329703688621521, 0.15663301944732666, -0.022880498319864273, -0.7902281284332275, -0.0252049770206213, -0.061784856021404266, 0.11161957681179047, -0.30391842126846313, 0.09289596229791641, -0.2508084177970886, -0.27299949526786804, 0.06902242451906204, 0.23096172511577606, 0.11228666454553604, 0.6282193064689636, -0.4950905740261078, 0.2013726681470871, 0.5193290114402771, 0.10309109091758728, 0.283832311630249, 0.06837455928325653, -0.0947447419166565, -0.5441477298736572, -0.18101169168949127, 0.20954793691635132, -0.2933301031589508, 0.45961543917655945, -0.09002471715211868, 0.5061157941818237, -0.6003549695014954, -0.4384084939956665, 0.08114371448755264, -0.1740838587284088, 0.5876076817512512, 0.5544852614402771, 0.14096403121948242, 0.4577538073062897, 0.48377662897109985, -0.061324045062065125, 0.486053466796875, 4.035941123962402, 0.3077571988105774, 0.5192360281944275, -0.19980767369270325, -0.4303157925605774, -0.06405925750732422, 0.5956559777259827, -0.30863335728645325, 0.1655944138765335, -0.06507758796215057, -0.1237834021449089, 0.5734145045280457, 0.23009520769119263, 0.5545117259025574, 0.04365124553442001, -0.2001025676727295, 1.086310863494873, 0.3489901125431061, -0.15775710344314575, -0.08688245713710785, -0.496462345123291, 0.3466827869415283, 0.5704621076583862, 0.2963264286518097, 0.3535509407520294, 0.05893835425376892, 0.5374647974967957, 0.45394647121429443, 0.8077842593193054, 0.8822596073150635, 0.5452683568000793, 0.03841641545295715, 0.17226840555667877, 0.1861421912908554, -0.24571235477924347, 0.815495491027832, 0.2760222256183624, 0.26033759117126465, 0.22752945125102997, 0.28764060139656067, -0.2981654107570648, 0.21804866194725037, 0.26850593090057373, -0.08254705369472504, -0.0067131612449884415, -0.17116324603557587, -0.058659348636865616, 0.2951733469963074, 0.2323729544878006, 0.383899986743927, -0.15632987022399902, -0.10185045003890991, -0.033865172415971756, -0.3679995834827423, 0.2921425402164459, 0.5862761735916138, -0.029810484498739243, 0.1122833639383316, 0.03011915273964405, 0.2672004997730255, 0.2628917992115021, -0.19166725873947144, -0.14636275172233582, -0.4049818813800812, -0.7220050096511841, 0.2987198233604431, -0.08440498262643814, -0.2711646258831024, 0.513735294342041, -0.21735359728336334, 0.6786319613456726, 0.30063045024871826, 1.029582142829895, -0.2948678731918335, -0.7025409936904907, -0.1996842324733734, -0.2927071154117584, 0.11702724546194077, 0.2584466338157654, -0.22877712547779083, 0.3166355788707733, -0.17629794776439667, 0.09112696349620819, -0.4062046706676483, -0.34843355417251587, 0.7013825178146362, -0.01466358918696642, 0.2629348039627075, 0.7241665720939636, 0.29522526264190674, 0.6841837763786316, -0.3807952105998993, 0.9318369030952454, 0.3690776526927948, -0.21997128427028656, 0.010048267431557178, 0.4572846591472626, -3.7149202823638916, 0.4903517961502075, 0.7730504870414734, -0.3744823932647705, 0.09174320846796036, -0.3765270709991455, 0.017962997779250145, -0.10951618105173111, -0.4069831669330597, 0.44945406913757324, 0.4098574221134186, -0.12208646535873413, -0.6101588606834412, -0.6782930493354797, 0.23905529081821442, -0.002528489800170064, 0.08369924873113632, 0.5789005160331726, 0.23962970077991486, -0.05709412693977356, -0.1173616498708725, 0.2937297523021698, 0.24618740379810333, -0.454064279794693, 0.10111621022224426, -0.07550914585590363, 0.6178253889083862, -0.19771793484687805, 0.09131721407175064, 0.3687708377838135, 0.0655168667435646, 0.3284040689468384, 0.49176743626594543, 0.060810256749391556, 0.14794036746025085, 0.44603830575942993, 0.3040001690387726, 0.18780086934566498, -0.030597340315580368, 0.2939988672733307, -0.05837898701429367, 0.2453964203596115, 0.7214570641517639, 0.19593827426433563, -0.2943384647369385, 0.0810842290520668, 0.03399794548749924, 0.661015510559082, 0.17663469910621643, -0.7355762720108032, 0.09314024448394775, 0.39748328924179077, 0.08518804609775543, -0.2009439468383789, 0.7423933148384094, 0.12160585075616837, 0.48124486207962036, 1.0428107976913452, -0.03125756233930588, 0.1307918280363083, -0.18074345588684082, 0.4757917821407318, 0.4681444466114044, -0.2576937973499298, -0.6133286952972412, -0.08867472410202026, 0.013925982639193535, 0.41042837500572205, 0.32137081027030945, -0.11141500622034073, -0.23233656585216522, 0.27144384384155273, 0.7836219668388367, -0.005447516217827797, 0.17386099696159363, 0.6859278678894043, -0.34313318133354187, -0.00572988111525774, 0.3069979250431061, -0.05000615492463112, 0.08758274465799332, -0.07864559441804886, -0.4555819630622864, 0.21944449841976166, 2.4789464473724365, 0.48756080865859985, 2.1585285663604736, -0.31744691729545593, -0.6614726781845093, 0.28844931721687317, -0.2758662700653076, 0.19981877505779266, -0.10721380263566971, 0.5198575854301453, -0.09445475786924362, 0.19239044189453125, 0.007693776860833168, 0.08249824494123459, 0.3864924907684326, -0.3110558092594147, 0.41041654348373413, -0.9790458083152771, 0.6545158624649048, 0.5984123349189758, 0.35200828313827515, -0.13505703210830688, 0.2336413860321045, 0.34506165981292725, -0.3161945641040802, -0.001445957226678729, -0.21704399585723877, -0.24208229780197144, 0.43909111618995667, -0.3624575734138489, -0.4054744839668274, 0.28476670384407043, 0.3538172245025635, 0.6361302137374878, -0.18746815621852875, 0.06201967969536781, 0.4222184419631958, 4.363128185272217, 0.16448219120502472, 0.21544478833675385, -0.2349974364042282, -0.4037102460861206, -0.2254408299922943, 0.20172913372516632, 0.029775310307741165, 0.2635134756565094, 0.4702291190624237, -0.011678188107907772, -0.42659786343574524, 0.2660011947154999, -0.12262396514415741, -0.3188111484050751, -0.020663771778345108, 0.06785484403371811, 0.18962331116199493, 0.37927544116973877, -0.12865836918354034, 0.32892876863479614, 0.5692496299743652, 0.4834938943386078, -0.05713662877678871, 0.44550323486328125, -0.06517541408538818, 0.9880586266517639, 0.06895472854375839, -0.200740247964859, 0.6276965141296387, 0.3729468584060669, 5.156824588775635, -0.25353074073791504, 0.4429115355014801, -0.053773317486047745, 0.12260450422763824, 0.022892221808433533, -0.06731496751308441, 0.041854485869407654, 0.014363166876137257, 0.004148782696574926, 0.007173856254667044, -0.26449647545814514, -0.7979496717453003, 0.590010941028595, -0.09240876138210297, 0.18581481277942657, -0.3397264778614044, 0.21427983045578003, 0.24166709184646606, -0.5354171395301819, 0.1606844663619995, -0.1710781753063202, 0.3096736967563629, -0.13627216219902039, -0.5129871964454651, 0.15169163048267365, -0.3852550983428955, 0.19306211173534393, 0.16172049939632416, 0.45424965023994446, 0.13706983625888824, -0.45779746770858765, -0.49593040347099304, 1.3857134580612183, 0.364357590675354, -0.37399396300315857, 0.09573487937450409, 0.3220393657684326, 0.29315268993377686, -0.43312954902648926, 0.27720463275909424, 0.5380958318710327, -0.3947705328464508, -0.011087209917604923, 0.046741120517253876, 0.34550026059150696, -0.36719587445259094, 0.4637339115142822, -0.11710398644208908, -0.31249621510505676, 0.6381511092185974, 0.5911446213722229, 0.8562977910041809, -0.17972004413604736, 0.4233301281929016, 0.11158749461174011, 0.07002280652523041, -0.3670806884765625, -0.36030280590057373, 0.1991715282201767, 0.5543752908706665, 0.032430797815322876, -0.3533194959163666, -0.17246291041374207, 0.35194650292396545, 0.42004334926605225, 0.43798455595970154, -0.12446605414152145, 0.5200105309486389, 0.09467565268278122, -0.5956624150276184, -0.32076165080070496, -0.33102288842201233, 0.2984274923801422, 0.015827683731913567, -0.252516508102417, 0.3212699890136719, -0.09380137920379639, -0.3096717298030853, -0.4296998381614685, -0.44755104184150696, 0.3562104403972626, -0.3865900933742523, -0.3025015592575073, -0.008898651227355003, 0.5420194268226624, -0.0804479643702507, 0.05028029531240463, -0.036287982016801834, 0.1587265431880951, 0.14294694364070892, 0.26892805099487305, 0.08286798000335693, 0.5442439317703247, -0.5975813269615173, 0.19472065567970276, 0.27691665291786194, 0.340545117855072, -0.05335340276360512, 0.48384079337120056, 0.324741929769516, 0.5195653438568115, 0.12757757306098938, -0.28081536293029785, 0.18395569920539856, -0.16535377502441406, -0.09138341248035431, -0.0985899567604065, -0.21883101761341095, 0.6270081996917725, 0.5191243290901184, 0.5953689217567444, -0.1870119273662567, 0.03578668460249901, -0.00827682763338089]}\n"
     ]
    }
   ],
   "source": [
    "ds.schema()\n",
    "count = 0\n",
    "for row in ds.iter_rows():\n",
    "    print(row)\n",
    "    count = count + 1\n",
    "    if count > 0:\n",
    "        break"
   ]
  },
  {
   "cell_type": "markdown",
   "metadata": {},
   "source": [
    "create the index for wikipedia data"
   ]
  },
  {
   "cell_type": "markdown",
   "metadata": {},
   "source": [
    "\n",
    "<br>\n",
    "indexes = pc.list_indexes().indexes<br>\n",
    "print(\"Indexes:\")<br>\n",
    "print(indexes)<br>\n",
    "print(\"\\n\")<br>\n"
   ]
  },
  {
   "cell_type": "markdown",
   "metadata": {},
   "source": [
    "get the index from existing srcs"
   ]
  },
  {
   "cell_type": "markdown",
   "metadata": {},
   "source": [
    "\n",
    "<br>\n",
    "vectorstore = Pinecone.from_existing_index(index_name=pc_index,<br>\n",
    "        embedding=embeddings)<br>\n",
    "retriever = vectorstore.as_retriever()<br>\n",
    "print(\"Vector store:\")<br>\n",
    "print(vectorstore)<br>\n",
    "print(\"\\n\")<br>\n",
    "def fetch_wiki_page(id):<br>\n",
    "    url = f\"https://en.wikipedia.org/w/api.php?action=query&prop=extracts&format=json&pageids={id}\"<br>\n",
    "    response = requests.get(url)<br>\n",
    "    data = response.json()<br>\n",
    "    page_content = list(data['query']['pages'].values())[0]['extract']<br>\n",
    "    return page_content<br>\n",
    "def fetch_url(x):<br>\n",
    "    urls = [doc.metadata['url'] for doc in x['context']]<br>\n",
    "    ids = [url.split('=')[-1] for url in urls]<br>\n",
    "    contents = [fetch_wikipedia_page(id)[:32000] for id in ids]<br>\n",
    "    return {\"context\": contents, \"question\": x[\"question\"]}<br>\n"
   ]
  },
  {
   "cell_type": "markdown",
   "metadata": {},
   "source": [
    "RAG prompt"
   ]
  },
  {
   "cell_type": "markdown",
   "metadata": {},
   "source": [
    "template = \n",
    "Answer the question based only on the following context:<br>\n",
    "    {context}<br>\n",
    "    Question: {question}<br>\n",
    "<br>\n",
    "rompt = ChatPromptTemplate.from_template(template)"
   ]
  },
  {
   "cell_type": "markdown",
   "metadata": {},
   "source": [
    "RAG model<br>\n",
    "odel = ChatOpenAI(temperature=0, model=\"gpt-4-1106-preview\", openai_api_key=openai_api_key)"
   ]
  },
  {
   "cell_type": "markdown",
   "metadata": {},
   "source": [
    "\n",
    "<br>\n",
    "chain = (<br>\n",
    "    RunnableParallel({\"context\": retriever, \"question\": RunnablePassthrough()})<br>\n",
    "    | RunnableLambda(fetch_url)<br>\n",
    "    | prompt<br>\n",
    "    | model<br>\n",
    "    | StrOutputParser()<br>\n",
    ")<br>\n"
   ]
  },
  {
   "cell_type": "code",
   "execution_count": 6,
   "metadata": {},
   "outputs": [
    {
     "name": "stdout",
     "output_type": "stream",
     "text": [
      "Names:\n",
      "['trailz-ai', 'cohere-wikipedia']\n",
      "\n",
      "\n"
     ]
    }
   ],
   "source": [
    "# upsert the data\n",
    "from pinecone.grpc import PineconeGRPC\n",
    "from pinecone import ServerlessSpec\n",
    "\n",
    "pc = PineconeGRPC()\n",
    "index_name = 'cohere-wikipedia'\n",
    "\n",
    "# ensure index DNE\n",
    "indexes = pc.list_indexes().indexes\n",
    "names = [_['name'] for _ in indexes]\n",
    "print(\"Names:\")\n",
    "print(names)\n",
    "print(\"\\n\")"
   ]
  },
  {
   "cell_type": "code",
   "execution_count": 7,
   "metadata": {},
   "outputs": [],
   "source": [
    "# insert the new wiki index\n",
    "if index_name not in names:\n",
    "    pc.create_index(\n",
    "        name=index_name,\n",
    "        dimension=768,\n",
    "        metric=\"cosine\",\n",
    "        spec=ServerlessSpec(cloud='aws', region='us-west-2'))\n"
   ]
  },
  {
   "cell_type": "code",
   "execution_count": 8,
   "metadata": {},
   "outputs": [],
   "source": [
    "import numpy as np\n",
    "from retry import retry\n",
    "from tqdm.auto import tqdm\n",
    "\n",
    "# process the data into vector format\n",
    "def create_pc_dataset(dataset):\n",
    "    pcDataList = []\n",
    "    for row in dataset.iter_rows():\n",
    "        newRow = {}\n",
    "        newRow['_id'] = row['id']\n",
    "        newRow['metadata'] = {}\n",
    "        newRow['metadata']['title'] = row['title']\n",
    "        newRow['metadata']['text'] = row['text']\n",
    "        newRow['vector'] = row['emb']\n",
    "        pcDataList.append(newRow)\n",
    "    return pcDataList\n",
    "        \n",
    "def upload_batches(dataset):\n",
    "    batch_size=350\n",
    "\n",
    "# insert records async\n",
    "def upload(batch):\n",
    "    client = PineconeGRPC()\n",
    "    index = client.Index(index_name)\n",
    "\n",
    "    # sets the returned and error vectors\n",
    "    total_vectors = 0\n",
    "    num_failures = 0\n",
    "\n",
    "    # data = process_data(large_batch).to_dict(orient='records')\n",
    "    data = batch.to_dict(orient='records')\n",
    "\n",
    "    # this will retry up to 2 times, exponential wait increase from min to 4-10\n",
    "    @retry(stop=stop_after_attempt(2), wait=wait_exponential(multiplier=1, min=4, max=10))\n",
    "    def send_batch(batch):\n",
    "        return index.upsert(vectors=batch)\n",
    "\n",
    "    try:\n",
    "        result = send_batch(data)\n",
    "        total_vectors += result.upserted_count\n",
    "    except Exception as e:\n",
    "        logging.exception(e)\n",
    "        num_failures += len(data)\n",
    "    return {'upserted': np.array([total_vectors]), 'errors': np.array([num_failures])}\n",
    "\n",
    "class Upserter:\n",
    "    def __call__(self, large_batch):\n",
    "        return upload_batches(large_batch)"
   ]
  },
  {
   "cell_type": "code",
   "execution_count": 13,
   "metadata": {},
   "outputs": [
    {
     "name": "stdout",
     "output_type": "stream",
     "text": [
      "env: RAY_memory_monitor_refresh_ms=0\n"
     ]
    }
   ],
   "source": [
    "# set the env var for ray memory error\n",
    "%env RAY_memory_monitor_refresh_ms=0"
   ]
  },
  {
   "cell_type": "code",
   "execution_count": null,
   "metadata": {},
   "outputs": [
    {
     "name": "stderr",
     "output_type": "stream",
     "text": [
      "2024-04-18 12:25:48,383\tINFO set_read_parallelism.py:115 -- Using autodetected parallelism=744 for stage ReadParquet to satisfy output blocks of size at most DataContext.get_current().target_max_block_size=128.0MiB.\n",
      "2024-04-18 12:25:48,384\tINFO streaming_executor.py:112 -- Executing DAG InputDataBuffer[Input] -> TaskPoolMapOperator[ReadParquet]\n",
      "2024-04-18 12:25:48,385\tINFO streaming_executor.py:113 -- Execution config: ExecutionOptions(resource_limits=ExecutionResources(cpu=None, gpu=None, object_store_memory=None), exclude_resources=ExecutionResources(cpu=0, gpu=0, object_store_memory=0), locality_with_output=False, preserve_order=False, actor_locality_enabled=True, verbose_progress=False)\n",
      "2024-04-18 12:25:48,385\tINFO streaming_executor.py:115 -- Tip: For detailed progress reporting, run `ray.data.DataContext.get_current().execution_options.verbose_progress = True`\n"
     ]
    },
    {
     "name": "stdout",
     "output_type": "stream",
     "text": [
      "env: RAY_memory_monitor_refresh_ms=0\n"
     ]
    },
    {
     "data": {
      "application/vnd.jupyter.widget-view+json": {
       "model_id": "6498ae4e758646158f113c4da6eb2f07",
       "version_major": 2,
       "version_minor": 0
      },
      "text/plain": [
       "Running 0:   0%|          | 0/99 [00:00<?, ?it/s]"
      ]
     },
     "metadata": {},
     "output_type": "display_data"
    }
   ],
   "source": [
    "# run the upload batches\n",
    "from datetime import datetime\n",
    "from datasets import Dataset\n",
    "import pickle\n",
    "\n",
    "%env RAY_memory_monitor_refresh_ms=0\n",
    "\n",
    "# create the new dataset\n",
    "pcDataList = create_pc_dataset(ds)\n",
    "pcDataset = Dataset.from_list(pcDataList)\n",
    "\n",
    "# create a pkl file for use later so we don't keep reloading\n",
    "pkl_data = 'pkl_data'\n",
    "with open(pkl_data+'/pc_dataset.pkl', 'wb') as f:\n",
    "    pickle.dump(pcDataset, f)\n",
    "\n",
    "# upload the new ds in batches\n",
    "\n",
    "# new_ds = ds.map_batches(\n",
    "#     Upserter,\n",
    "#     batch_size=batch_size,\n",
    "#     batch_format='pandas',\n",
    "#     zero_copy_batch=True,\n",
    "#     concurrency=1)\n",
    "\n",
    "# before = datetime.now()\n",
    "# summary = new_ds.materialize().sum(['upserted', 'errors'])\n",
    "\n",
    "# summary\n",
    "# duration = datetime.now() - before\n",
    "# print({k: f\"{v: ,}\" for k,v in summary.items()})\n",
    "# print(f\"Duration = {duration}\")"
   ]
  },
  {
   "cell_type": "markdown",
   "metadata": {},
   "source": [
    "\n",
    "<br>\n",
    "embeddings = CohereEmbeddings(model=\"multilingual-22-12\", cohere_api_key=cohere_api_key)<br>\n",
    "print(\"Embeddings:\")<br>\n",
    "print(embeddings)<br>\n",
    "print(\"\\n\")<br>\n"
   ]
  },
  {
   "cell_type": "code",
   "execution_count": 10,
   "metadata": {},
   "outputs": [
    {
     "name": "stdout",
     "output_type": "stream",
     "text": [
      "Cohere = y8rfGb9Ak9BSWnA6GcjDfoT4V0nXETZXzk5vf7TR\n"
     ]
    }
   ],
   "source": [
    "# create the cohere embeddings\n",
    "from pinecone.grpc import PineconeGRPC\n",
    "from pinecone import ServerlessSpec\n",
    "\n",
    "pc = PineconeGRPC()\n",
    "index_name = 'cohere-wikipedia'\n",
    "print(f\"Cohere = {cohere_api_key}\")\n",
    "embeddings = CohereEmbeddings(model=\"multilingual-22-12\", cohere_api_key=cohere_api_key)\n",
    "vectorstore = Pinecone.from_existing_index(index_name=index_name, embedding=embeddings)\n",
    "retriever = vectorstore.as_retriever()"
   ]
  },
  {
   "cell_type": "code",
   "execution_count": 11,
   "metadata": {},
   "outputs": [],
   "source": [
    "# fetch wiki using id\n",
    "def fetch_wiki_page(id):\n",
    "    url = f\"https://en.wikipedia.org/w/api.php?action=query&prop=extracts&format=json&pageids={id}\"\n",
    "    response = requests.get(url)\n",
    "    data = response.json()\n",
    "    page_content = list(data['query']['pages'].values())[0]['extract']\n",
    "    return page_content\n",
    "\n",
    "def fetch_url(x):\n",
    "    urls = [doc.metadata['url'] for doc in x['context']]\n",
    "    ids = [url.split('=')[-1] for url in urls]\n",
    "    contents = [fetch_wiki_page(id)[:32000] for id in ids]\n",
    "    return {\"context\": contents, \"question\": x[\"question\"]}"
   ]
  },
  {
   "cell_type": "code",
   "execution_count": 13,
   "metadata": {},
   "outputs": [
    {
     "name": "stdout",
     "output_type": "stream",
     "text": [
      "Chain result output:\n",
      "Film noir is a category of film that has provoked ongoing debate regarding its definition and classification. It is characterized by a set of attributes that include being oneiric (dreamlike), strange, erotic, ambivalent, and cruel, as first described by French critics and Étienne Chaumeton in their 1955 book \"Panorama du film noir américain 1941–1953.\" However, not every film noir necessarily includes all these attributes to the same degree.\n",
      "\n",
      "Critics and scholars have variously identified film noir by its tragic or bleak conclusions, distinctive visual style, plot and character types, mood, and attitude. There is no definitive set of characteristics that can be universally applied to all films noir. The genre is also known for its complex characters and plotlines, crime and violence, mystery, and moral ambivalence.\n",
      "\n",
      "Neo-noir is a related category that reflects many characteristics of classic film noir but also emphasizes a socio-critical perspective, often highlighting issues related to global existential crises, depression, and the effects of capitalism and consumerism. Neo-noir films may feature stylized lighting techniques such as chiaroscuro and use cityscapes to convey a bleak societal perspective.\n",
      "\n",
      "Historically, many films now considered to be classic film noir were originally referred to as \"melodramas.\" The categorization of film noir as either a distinct genre or a filmmaking style is still a matter of debate among cinema historians and critics.\n"
     ]
    }
   ],
   "source": [
    "# RAG Prompt\n",
    "from langchain_core.messages import HumanMessage, SystemMessage\n",
    "from langchain.load.dump import dumps\n",
    "\n",
    "template = \"\"\"Answer the question based only on the following context:\n",
    "{context}\n",
    "Question: {question}\n",
    "\"\"\"\n",
    "prompt = ChatPromptTemplate.from_template(template)\n",
    "\n",
    "# RAG Model\n",
    "#    | RunnableLambda(fetch_url)\n",
    "model = ChatOpenAI(temperature=0, model=\"gpt-4-1106-preview\", openai_api_key=openai_api_key)\n",
    "chain = (\n",
    "    RunnableParallel({\"context\": retriever, \"question\": RunnablePassthrough()})\n",
    "    | prompt\n",
    "    | model\n",
    "    | StrOutputParser()\n",
    ")\n",
    "\n",
    "# Invoke a question to the chain\n",
    "#    SystemMessage(content=\"You're a great assistant\"),\n",
    "# message = HumanMessage(content=\"What is film noir?\")\n",
    "# chain_result = chain.invoke(\"what is film noir?\")\n",
    "# chain_result = chain.invoke(\"what is film noir?\")\n",
    "messages = [\n",
    "    SystemMessage(content=\"You are Micheal Jordan.\"),\n",
    "    HumanMessage(content=\"Which shoe manufacturer are you associated with?\"),\n",
    "]\n",
    "# chain_result = chain.invoke(messages)\n",
    "chain_result = chain.invoke(\"What is film noir?\")\n",
    "# chain_result = chain.run(\"What is film noir?\")\n",
    "print(\"Chain result output:\")\n",
    "print(chain_result)"
   ]
  },
  {
   "cell_type": "code",
   "execution_count": null,
   "metadata": {},
   "outputs": [],
   "source": []
  }
 ],
 "metadata": {
  "kernelspec": {
   "display_name": "Python 3 (ipykernel)",
   "language": "python",
   "name": "python3"
  },
  "language_info": {
   "codemirror_mode": {
    "name": "ipython",
    "version": 3
   },
   "file_extension": ".py",
   "mimetype": "text/x-python",
   "name": "python",
   "nbconvert_exporter": "python",
   "pygments_lexer": "ipython3",
   "version": "3.11.8"
  }
 },
 "nbformat": 4,
 "nbformat_minor": 4
}
