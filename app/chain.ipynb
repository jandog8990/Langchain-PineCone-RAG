{
 "cells": [
  {
   "cell_type": "code",
   "execution_count": 2,
   "metadata": {},
   "outputs": [
    {
     "name": "stderr",
     "output_type": "stream",
     "text": [
      "/home/jandogonzales/Development/anaconda3/envs/trailz/lib/python3.11/site-packages/pinecone/data/index.py:1: TqdmExperimentalWarning: Using `tqdm.autonotebook.tqdm` in notebook mode. Use `tqdm.tqdm` instead to force console mode (e.g. in jupyter console)\n",
      "  from tqdm.autonotebook import tqdm\n"
     ]
    }
   ],
   "source": [
    "from pinecone import Pinecone as PineconeClient\n",
    "from pinecone.grpc import PineconeGRPC\n",
    "from pinecone import ServerlessSpec\n",
    "from dotenv import dotenv_values\n",
    "from langchain_community.chat_models import ChatOpenAI\n",
    "from langchain_community.embeddings import CohereEmbeddings\n",
    "from langchain_community.vectorstores import Pinecone \n",
    "from langchain_core.output_parsers import StrOutputParser\n",
    "from langchain_core.prompts import ChatPromptTemplate\n",
    "from langchain_core.runnables import RunnableParallel, RunnablePassthrough, RunnableLambda\n",
    "import requests\n",
    "import json\n",
    "import ray"
   ]
  },
  {
   "cell_type": "markdown",
   "metadata": {},
   "source": [
    "connecto to pinecone api"
   ]
  },
  {
   "cell_type": "code",
   "execution_count": 3,
   "metadata": {},
   "outputs": [],
   "source": [
    "config = dotenv_values(\".env\")\n",
    "env_key = config[\"PINE_CONE_ENV_KEY\"]\n",
    "api_key = config[\"PINE_CONE_API_KEY\"]\n",
    "openai_api_key=config[\"OPENAI_API_KEY\"]\n",
    "cohere_api_key = config[\"COHERE_API_KEY\"]\n",
    "#pc_index = config[\"INDEX_NAME\"]"
   ]
  },
  {
   "cell_type": "markdown",
   "metadata": {},
   "source": [
    "pinecone client and embeddings"
   ]
  },
  {
   "cell_type": "code",
   "execution_count": 4,
   "metadata": {},
   "outputs": [],
   "source": [
    "pineCone = PineconeClient(\n",
    "    api_key=api_key\n",
    ")"
   ]
  },
  {
   "cell_type": "markdown",
   "metadata": {},
   "source": [
    "start to load the data"
   ]
  },
  {
   "cell_type": "code",
   "execution_count": 5,
   "metadata": {},
   "outputs": [
    {
     "name": "stderr",
     "output_type": "stream",
     "text": [
      "/home/jandogonzales/Development/anaconda3/envs/trailz/lib/python3.11/site-packages/ray/data/datasource/parquet_datasource.py:242: FutureWarning: Passing 'use_legacy_dataset' is deprecated as of pyarrow 15.0.0 and will be removed in a future version.\n",
      "  pq_ds = pq.ParquetDataset(\n"
     ]
    },
    {
     "data": {
      "application/vnd.jupyter.widget-view+json": {
       "model_id": "",
       "version_major": 2,
       "version_minor": 0
      },
      "text/plain": [
       "Metadata Fetch Progress 0:   0%|          | 0/42 [00:00<?, ?it/s]"
      ]
     },
     "metadata": {},
     "output_type": "display_data"
    },
    {
     "name": "stderr",
     "output_type": "stream",
     "text": [
      "2024-03-06 13:44:10,948\tINFO worker.py:1715 -- Started a local Ray instance. View the dashboard at \u001b[1m\u001b[32mhttp://127.0.0.1:8265 \u001b[39m\u001b[22m\n"
     ]
    },
    {
     "data": {
      "application/vnd.jupyter.widget-view+json": {
       "model_id": "",
       "version_major": 2,
       "version_minor": 0
      },
      "text/plain": [
       "Parquet Files Sample 0:   0%|          | 0/2 [00:00<?, ?it/s]"
      ]
     },
     "metadata": {},
     "output_type": "display_data"
    },
    {
     "name": "stdout",
     "output_type": "stream",
     "text": [
      "Dataset:\n",
      "Dataset(\n",
      "   num_blocks=3542,\n",
      "   num_rows=35167920,\n",
      "   schema={\n",
      "      id: int32,\n",
      "      title: string,\n",
      "      text: string,\n",
      "      url: string,\n",
      "      emb: list<item: float>\n",
      "   }\n",
      ")\n",
      "\n",
      "\n"
     ]
    },
    {
     "name": "stderr",
     "output_type": "stream",
     "text": [
      "\u001b[36m(ReadParquet->SplitBlocks(2) pid=78380)\u001b[0m /home/jandogonzales/Development/anaconda3/envs/trailz/lib/python3.11/site-packages/ray/data/_internal/arrow_block.py:148: FutureWarning: promote has been superseded by promote_options='default'.\n",
      "\u001b[36m(ReadParquet->SplitBlocks(2) pid=78380)\u001b[0m   return transform_pyarrow.concat(tables)\n",
      "\u001b[36m(ReadParquet->SplitBlocks(2) pid=79116)\u001b[0m /home/jandogonzales/Development/anaconda3/envs/trailz/lib/python3.11/site-packages/ray/data/_internal/arrow_block.py:148: FutureWarning: promote has been superseded by promote_options='default'.\n",
      "\u001b[36m(ReadParquet->SplitBlocks(2) pid=79116)\u001b[0m   return transform_pyarrow.concat(tables)\n",
      "\u001b[33m(raylet)\u001b[0m [2024-03-06 14:09:10,873 E 78307 78307] (raylet) node_manager.cc:3024: 16 Workers (tasks / actors) killed due to memory pressure (OOM), 0 Workers crashed due to other reasons at node (ID: 10b7b0c14f00c92c055af9a8ec33a63d7b3462b1753c797f7a6a772c, IP: 192.168.171.61) over the last time period. To see more information about the Workers killed on this node, use `ray logs raylet.out -ip 192.168.171.61`\n",
      "\u001b[33m(raylet)\u001b[0m \n",
      "\u001b[33m(raylet)\u001b[0m Refer to the documentation on how to address the out of memory issue: https://docs.ray.io/en/latest/ray-core/scheduling/ray-oom-prevention.html. Consider provisioning more memory on this node or reducing task parallelism by requesting more CPUs per task. To adjust the kill threshold, set the environment variable `RAY_memory_usage_threshold` when starting Ray. To disable worker killing, set the environment variable `RAY_memory_monitor_refresh_ms` to zero.\n",
      "\u001b[33m(raylet)\u001b[0m [2024-03-06 14:10:10,875 E 78307 78307] (raylet) node_manager.cc:3024: 6 Workers (tasks / actors) killed due to memory pressure (OOM), 0 Workers crashed due to other reasons at node (ID: 10b7b0c14f00c92c055af9a8ec33a63d7b3462b1753c797f7a6a772c, IP: 192.168.171.61) over the last time period. To see more information about the Workers killed on this node, use `ray logs raylet.out -ip 192.168.171.61`\n",
      "\u001b[33m(raylet)\u001b[0m \n",
      "\u001b[33m(raylet)\u001b[0m Refer to the documentation on how to address the out of memory issue: https://docs.ray.io/en/latest/ray-core/scheduling/ray-oom-prevention.html. Consider provisioning more memory on this node or reducing task parallelism by requesting more CPUs per task. To adjust the kill threshold, set the environment variable `RAY_memory_usage_threshold` when starting Ray. To disable worker killing, set the environment variable `RAY_memory_monitor_refresh_ms` to zero.\n",
      "\u001b[33m(raylet)\u001b[0m [2024-03-06 14:11:10,875 E 78307 78307] (raylet) node_manager.cc:3024: 1 Workers (tasks / actors) killed due to memory pressure (OOM), 0 Workers crashed due to other reasons at node (ID: 10b7b0c14f00c92c055af9a8ec33a63d7b3462b1753c797f7a6a772c, IP: 192.168.171.61) over the last time period. To see more information about the Workers killed on this node, use `ray logs raylet.out -ip 192.168.171.61`\n",
      "\u001b[33m(raylet)\u001b[0m \n",
      "\u001b[33m(raylet)\u001b[0m Refer to the documentation on how to address the out of memory issue: https://docs.ray.io/en/latest/ray-core/scheduling/ray-oom-prevention.html. Consider provisioning more memory on this node or reducing task parallelism by requesting more CPUs per task. To adjust the kill threshold, set the environment variable `RAY_memory_usage_threshold` when starting Ray. To disable worker killing, set the environment variable `RAY_memory_monitor_refresh_ms` to zero.\n",
      "\u001b[33m(raylet)\u001b[0m [2024-03-06 14:12:10,876 E 78307 78307] (raylet) node_manager.cc:3024: 33 Workers (tasks / actors) killed due to memory pressure (OOM), 0 Workers crashed due to other reasons at node (ID: 10b7b0c14f00c92c055af9a8ec33a63d7b3462b1753c797f7a6a772c, IP: 192.168.171.61) over the last time period. To see more information about the Workers killed on this node, use `ray logs raylet.out -ip 192.168.171.61`\n",
      "\u001b[33m(raylet)\u001b[0m \n",
      "\u001b[33m(raylet)\u001b[0m Refer to the documentation on how to address the out of memory issue: https://docs.ray.io/en/latest/ray-core/scheduling/ray-oom-prevention.html. Consider provisioning more memory on this node or reducing task parallelism by requesting more CPUs per task. To adjust the kill threshold, set the environment variable `RAY_memory_usage_threshold` when starting Ray. To disable worker killing, set the environment variable `RAY_memory_monitor_refresh_ms` to zero.\n",
      "\u001b[33m(raylet)\u001b[0m [2024-03-06 14:13:10,877 E 78307 78307] (raylet) node_manager.cc:3024: 38 Workers (tasks / actors) killed due to memory pressure (OOM), 0 Workers crashed due to other reasons at node (ID: 10b7b0c14f00c92c055af9a8ec33a63d7b3462b1753c797f7a6a772c, IP: 192.168.171.61) over the last time period. To see more information about the Workers killed on this node, use `ray logs raylet.out -ip 192.168.171.61`\n",
      "\u001b[33m(raylet)\u001b[0m \n",
      "\u001b[33m(raylet)\u001b[0m Refer to the documentation on how to address the out of memory issue: https://docs.ray.io/en/latest/ray-core/scheduling/ray-oom-prevention.html. Consider provisioning more memory on this node or reducing task parallelism by requesting more CPUs per task. To adjust the kill threshold, set the environment variable `RAY_memory_usage_threshold` when starting Ray. To disable worker killing, set the environment variable `RAY_memory_monitor_refresh_ms` to zero.\n",
      "\u001b[33m(raylet)\u001b[0m [2024-03-06 14:14:10,887 E 78307 78307] (raylet) node_manager.cc:3024: 45 Workers (tasks / actors) killed due to memory pressure (OOM), 0 Workers crashed due to other reasons at node (ID: 10b7b0c14f00c92c055af9a8ec33a63d7b3462b1753c797f7a6a772c, IP: 192.168.171.61) over the last time period. To see more information about the Workers killed on this node, use `ray logs raylet.out -ip 192.168.171.61`\n",
      "\u001b[33m(raylet)\u001b[0m \n",
      "\u001b[33m(raylet)\u001b[0m Refer to the documentation on how to address the out of memory issue: https://docs.ray.io/en/latest/ray-core/scheduling/ray-oom-prevention.html. Consider provisioning more memory on this node or reducing task parallelism by requesting more CPUs per task. To adjust the kill threshold, set the environment variable `RAY_memory_usage_threshold` when starting Ray. To disable worker killing, set the environment variable `RAY_memory_monitor_refresh_ms` to zero.\n",
      "\u001b[33m(raylet)\u001b[0m [2024-03-06 14:15:11,260 E 78307 78307] (raylet) node_manager.cc:3024: 47 Workers (tasks / actors) killed due to memory pressure (OOM), 0 Workers crashed due to other reasons at node (ID: 10b7b0c14f00c92c055af9a8ec33a63d7b3462b1753c797f7a6a772c, IP: 192.168.171.61) over the last time period. To see more information about the Workers killed on this node, use `ray logs raylet.out -ip 192.168.171.61`\n",
      "\u001b[33m(raylet)\u001b[0m \n",
      "\u001b[33m(raylet)\u001b[0m Refer to the documentation on how to address the out of memory issue: https://docs.ray.io/en/latest/ray-core/scheduling/ray-oom-prevention.html. Consider provisioning more memory on this node or reducing task parallelism by requesting more CPUs per task. To adjust the kill threshold, set the environment variable `RAY_memory_usage_threshold` when starting Ray. To disable worker killing, set the environment variable `RAY_memory_monitor_refresh_ms` to zero.\n",
      "\u001b[33m(raylet)\u001b[0m [2024-03-06 14:16:11,669 E 78307 78307] (raylet) node_manager.cc:3024: 45 Workers (tasks / actors) killed due to memory pressure (OOM), 0 Workers crashed due to other reasons at node (ID: 10b7b0c14f00c92c055af9a8ec33a63d7b3462b1753c797f7a6a772c, IP: 192.168.171.61) over the last time period. To see more information about the Workers killed on this node, use `ray logs raylet.out -ip 192.168.171.61`\n",
      "\u001b[33m(raylet)\u001b[0m \n",
      "\u001b[33m(raylet)\u001b[0m Refer to the documentation on how to address the out of memory issue: https://docs.ray.io/en/latest/ray-core/scheduling/ray-oom-prevention.html. Consider provisioning more memory on this node or reducing task parallelism by requesting more CPUs per task. To adjust the kill threshold, set the environment variable `RAY_memory_usage_threshold` when starting Ray. To disable worker killing, set the environment variable `RAY_memory_monitor_refresh_ms` to zero.\n",
      "\u001b[33m(raylet)\u001b[0m [2024-03-06 14:17:12,073 E 78307 78307] (raylet) node_manager.cc:3024: 50 Workers (tasks / actors) killed due to memory pressure (OOM), 0 Workers crashed due to other reasons at node (ID: 10b7b0c14f00c92c055af9a8ec33a63d7b3462b1753c797f7a6a772c, IP: 192.168.171.61) over the last time period. To see more information about the Workers killed on this node, use `ray logs raylet.out -ip 192.168.171.61`\n",
      "\u001b[33m(raylet)\u001b[0m \n",
      "\u001b[33m(raylet)\u001b[0m Refer to the documentation on how to address the out of memory issue: https://docs.ray.io/en/latest/ray-core/scheduling/ray-oom-prevention.html. Consider provisioning more memory on this node or reducing task parallelism by requesting more CPUs per task. To adjust the kill threshold, set the environment variable `RAY_memory_usage_threshold` when starting Ray. To disable worker killing, set the environment variable `RAY_memory_monitor_refresh_ms` to zero.\n",
      "\u001b[33m(raylet)\u001b[0m [2024-03-06 14:18:12,074 E 78307 78307] (raylet) node_manager.cc:3024: 43 Workers (tasks / actors) killed due to memory pressure (OOM), 0 Workers crashed due to other reasons at node (ID: 10b7b0c14f00c92c055af9a8ec33a63d7b3462b1753c797f7a6a772c, IP: 192.168.171.61) over the last time period. To see more information about the Workers killed on this node, use `ray logs raylet.out -ip 192.168.171.61`\n",
      "\u001b[33m(raylet)\u001b[0m \n",
      "\u001b[33m(raylet)\u001b[0m Refer to the documentation on how to address the out of memory issue: https://docs.ray.io/en/latest/ray-core/scheduling/ray-oom-prevention.html. Consider provisioning more memory on this node or reducing task parallelism by requesting more CPUs per task. To adjust the kill threshold, set the environment variable `RAY_memory_usage_threshold` when starting Ray. To disable worker killing, set the environment variable `RAY_memory_monitor_refresh_ms` to zero.\n",
      "\u001b[33m(raylet)\u001b[0m [2024-03-06 14:19:12,075 E 78307 78307] (raylet) node_manager.cc:3024: 44 Workers (tasks / actors) killed due to memory pressure (OOM), 0 Workers crashed due to other reasons at node (ID: 10b7b0c14f00c92c055af9a8ec33a63d7b3462b1753c797f7a6a772c, IP: 192.168.171.61) over the last time period. To see more information about the Workers killed on this node, use `ray logs raylet.out -ip 192.168.171.61`\n",
      "\u001b[33m(raylet)\u001b[0m \n",
      "\u001b[33m(raylet)\u001b[0m Refer to the documentation on how to address the out of memory issue: https://docs.ray.io/en/latest/ray-core/scheduling/ray-oom-prevention.html. Consider provisioning more memory on this node or reducing task parallelism by requesting more CPUs per task. To adjust the kill threshold, set the environment variable `RAY_memory_usage_threshold` when starting Ray. To disable worker killing, set the environment variable `RAY_memory_monitor_refresh_ms` to zero.\n",
      "\u001b[33m(raylet)\u001b[0m [2024-03-06 14:20:12,277 E 78307 78307] (raylet) node_manager.cc:3024: 45 Workers (tasks / actors) killed due to memory pressure (OOM), 0 Workers crashed due to other reasons at node (ID: 10b7b0c14f00c92c055af9a8ec33a63d7b3462b1753c797f7a6a772c, IP: 192.168.171.61) over the last time period. To see more information about the Workers killed on this node, use `ray logs raylet.out -ip 192.168.171.61`\n",
      "\u001b[33m(raylet)\u001b[0m \n",
      "\u001b[33m(raylet)\u001b[0m Refer to the documentation on how to address the out of memory issue: https://docs.ray.io/en/latest/ray-core/scheduling/ray-oom-prevention.html. Consider provisioning more memory on this node or reducing task parallelism by requesting more CPUs per task. To adjust the kill threshold, set the environment variable `RAY_memory_usage_threshold` when starting Ray. To disable worker killing, set the environment variable `RAY_memory_monitor_refresh_ms` to zero.\n",
      "\u001b[33m(raylet)\u001b[0m [2024-03-06 14:21:12,278 E 78307 78307] (raylet) node_manager.cc:3024: 44 Workers (tasks / actors) killed due to memory pressure (OOM), 0 Workers crashed due to other reasons at node (ID: 10b7b0c14f00c92c055af9a8ec33a63d7b3462b1753c797f7a6a772c, IP: 192.168.171.61) over the last time period. To see more information about the Workers killed on this node, use `ray logs raylet.out -ip 192.168.171.61`\n",
      "\u001b[33m(raylet)\u001b[0m \n",
      "\u001b[33m(raylet)\u001b[0m Refer to the documentation on how to address the out of memory issue: https://docs.ray.io/en/latest/ray-core/scheduling/ray-oom-prevention.html. Consider provisioning more memory on this node or reducing task parallelism by requesting more CPUs per task. To adjust the kill threshold, set the environment variable `RAY_memory_usage_threshold` when starting Ray. To disable worker killing, set the environment variable `RAY_memory_monitor_refresh_ms` to zero.\n",
      "\u001b[33m(raylet)\u001b[0m [2024-03-06 14:22:12,610 E 78307 78307] (raylet) node_manager.cc:3024: 46 Workers (tasks / actors) killed due to memory pressure (OOM), 0 Workers crashed due to other reasons at node (ID: 10b7b0c14f00c92c055af9a8ec33a63d7b3462b1753c797f7a6a772c, IP: 192.168.171.61) over the last time period. To see more information about the Workers killed on this node, use `ray logs raylet.out -ip 192.168.171.61`\n",
      "\u001b[33m(raylet)\u001b[0m \n",
      "\u001b[33m(raylet)\u001b[0m Refer to the documentation on how to address the out of memory issue: https://docs.ray.io/en/latest/ray-core/scheduling/ray-oom-prevention.html. Consider provisioning more memory on this node or reducing task parallelism by requesting more CPUs per task. To adjust the kill threshold, set the environment variable `RAY_memory_usage_threshold` when starting Ray. To disable worker killing, set the environment variable `RAY_memory_monitor_refresh_ms` to zero.\n",
      "\u001b[33m(raylet)\u001b[0m [2024-03-06 14:23:12,770 E 78307 78307] (raylet) node_manager.cc:3024: 44 Workers (tasks / actors) killed due to memory pressure (OOM), 0 Workers crashed due to other reasons at node (ID: 10b7b0c14f00c92c055af9a8ec33a63d7b3462b1753c797f7a6a772c, IP: 192.168.171.61) over the last time period. To see more information about the Workers killed on this node, use `ray logs raylet.out -ip 192.168.171.61`\n",
      "\u001b[33m(raylet)\u001b[0m \n",
      "\u001b[33m(raylet)\u001b[0m Refer to the documentation on how to address the out of memory issue: https://docs.ray.io/en/latest/ray-core/scheduling/ray-oom-prevention.html. Consider provisioning more memory on this node or reducing task parallelism by requesting more CPUs per task. To adjust the kill threshold, set the environment variable `RAY_memory_usage_threshold` when starting Ray. To disable worker killing, set the environment variable `RAY_memory_monitor_refresh_ms` to zero.\n",
      "\u001b[33m(raylet)\u001b[0m [2024-03-06 14:24:12,885 E 78307 78307] (raylet) node_manager.cc:3024: 45 Workers (tasks / actors) killed due to memory pressure (OOM), 0 Workers crashed due to other reasons at node (ID: 10b7b0c14f00c92c055af9a8ec33a63d7b3462b1753c797f7a6a772c, IP: 192.168.171.61) over the last time period. To see more information about the Workers killed on this node, use `ray logs raylet.out -ip 192.168.171.61`\n",
      "\u001b[33m(raylet)\u001b[0m \n",
      "\u001b[33m(raylet)\u001b[0m Refer to the documentation on how to address the out of memory issue: https://docs.ray.io/en/latest/ray-core/scheduling/ray-oom-prevention.html. Consider provisioning more memory on this node or reducing task parallelism by requesting more CPUs per task. To adjust the kill threshold, set the environment variable `RAY_memory_usage_threshold` when starting Ray. To disable worker killing, set the environment variable `RAY_memory_monitor_refresh_ms` to zero.\n",
      "\u001b[33m(raylet)\u001b[0m [2024-03-06 14:25:12,886 E 78307 78307] (raylet) node_manager.cc:3024: 36 Workers (tasks / actors) killed due to memory pressure (OOM), 0 Workers crashed due to other reasons at node (ID: 10b7b0c14f00c92c055af9a8ec33a63d7b3462b1753c797f7a6a772c, IP: 192.168.171.61) over the last time period. To see more information about the Workers killed on this node, use `ray logs raylet.out -ip 192.168.171.61`\n",
      "\u001b[33m(raylet)\u001b[0m \n",
      "\u001b[33m(raylet)\u001b[0m Refer to the documentation on how to address the out of memory issue: https://docs.ray.io/en/latest/ray-core/scheduling/ray-oom-prevention.html. Consider provisioning more memory on this node or reducing task parallelism by requesting more CPUs per task. To adjust the kill threshold, set the environment variable `RAY_memory_usage_threshold` when starting Ray. To disable worker killing, set the environment variable `RAY_memory_monitor_refresh_ms` to zero.\n",
      "\u001b[33m(raylet)\u001b[0m [2024-03-06 14:26:12,887 E 78307 78307] (raylet) node_manager.cc:3024: 14 Workers (tasks / actors) killed due to memory pressure (OOM), 0 Workers crashed due to other reasons at node (ID: 10b7b0c14f00c92c055af9a8ec33a63d7b3462b1753c797f7a6a772c, IP: 192.168.171.61) over the last time period. To see more information about the Workers killed on this node, use `ray logs raylet.out -ip 192.168.171.61`\n",
      "\u001b[33m(raylet)\u001b[0m \n",
      "\u001b[33m(raylet)\u001b[0m Refer to the documentation on how to address the out of memory issue: https://docs.ray.io/en/latest/ray-core/scheduling/ray-oom-prevention.html. Consider provisioning more memory on this node or reducing task parallelism by requesting more CPUs per task. To adjust the kill threshold, set the environment variable `RAY_memory_usage_threshold` when starting Ray. To disable worker killing, set the environment variable `RAY_memory_monitor_refresh_ms` to zero.\n"
     ]
    }
   ],
   "source": [
    "url = \"https://huggingface.co/api/datasets/Cohere/wikipedia-22-12-en-embeddings/parquet/default/train\"\n",
    "response = requests.get(url)\n",
    "input_files = json.loads(response.content)\n",
    "columns = ['id', 'title', 'text', 'url', 'emb']\n",
    "ds = ray.data.read_parquet(input_files, columns=columns) \n",
    "print(\"Dataset:\")\n",
    "print(ds)\n",
    "print(\"\\n\")"
   ]
  },
  {
   "cell_type": "code",
   "execution_count": 6,
   "metadata": {},
   "outputs": [
    {
     "name": "stderr",
     "output_type": "stream",
     "text": [
      "2024-03-06 14:01:38,193\tINFO set_read_parallelism.py:115 -- Using autodetected parallelism=1879 for stage ReadParquet to satisfy output blocks of size at most DataContext.get_current().target_max_block_size=128.0MiB.\n",
      "2024-03-06 14:01:38,194\tINFO set_read_parallelism.py:122 -- To satisfy the requested parallelism of 1879, each read task output is split into 2 smaller blocks.\n",
      "2024-03-06 14:01:38,194\tINFO streaming_executor.py:112 -- Executing DAG InputDataBuffer[Input] -> TaskPoolMapOperator[ReadParquet]\n",
      "2024-03-06 14:01:38,195\tINFO streaming_executor.py:113 -- Execution config: ExecutionOptions(resource_limits=ExecutionResources(cpu=None, gpu=None, object_store_memory=None), exclude_resources=ExecutionResources(cpu=0, gpu=0, object_store_memory=0), locality_with_output=False, preserve_order=False, actor_locality_enabled=True, verbose_progress=False)\n",
      "2024-03-06 14:01:38,196\tINFO streaming_executor.py:115 -- Tip: For detailed progress reporting, run `ray.data.DataContext.get_current().execution_options.verbose_progress = True`\n"
     ]
    },
    {
     "data": {
      "application/vnd.jupyter.widget-view+json": {
       "model_id": "",
       "version_major": 2,
       "version_minor": 0
      },
      "text/plain": [
       "Running 0:   0%|          | 0/253 [00:00<?, ?it/s]"
      ]
     },
     "metadata": {},
     "output_type": "display_data"
    },
    {
     "name": "stdout",
     "output_type": "stream",
     "text": [
      "{'id': 0, 'title': 'Deaths in 2022', 'text': 'The following notable deaths occurred in 2022. Names are reported under the date of death, in alphabetical order. A typical entry reports information in the following sequence:', 'url': 'https://en.wikipedia.org/wiki?curid=69407798', 'emb': [0.2865696847438812, -0.03181683272123337, 0.06668472290039062, 0.03292645886540413, -0.008292825892567635, 0.16873490810394287, -0.0008463106933049858, -0.36077880859375, 0.33916592597961426, 0.3886975646018982, -0.41489771008491516, 0.20758016407489777, -0.11468425393104553, 0.3873162567615509, -0.26252424716949463, 0.007096240296959877, 0.24166066944599152, -0.24653761088848114, 0.060873936861753464, 0.23045268654823303, -0.029800616204738617, 0.5721306800842285, -0.051111623644828796, -0.09547730535268784, 0.1097082868218422, -0.059516504406929016, -0.053682904690504074, 0.23981636762619019, -0.33325839042663574, 0.3685816824436188, 0.18456950783729553, -0.05209290236234665, -0.006129484623670578, 0.5033777952194214, -0.5287379026412964, 0.5231741070747375, 0.022464150562882423, -0.04248378053307533, 0.3180341124534607, -0.11792317032814026, 0.07446788251399994, 0.24792802333831787, 0.20263631641864777, -0.017194697633385658, 0.3679729402065277, 0.3847752511501312, 0.1616753190755844, 0.04726771265268326, -0.03529544919729233, 0.44717246294021606, -0.3653179109096527, -0.16520369052886963, -0.28060752153396606, 0.024058140814304352, -0.6397897601127625, 0.4281712472438812, -0.1488940566778183, 0.7482781410217285, 0.09189224243164062, -0.09540678560733795, 0.1863720566034317, -0.20858603715896606, -0.226043701171875, -0.06464707106351852, 0.6534488201141357, 0.19247837364673615, 0.017971690744161606, 0.3398212492465973, 0.26752832531929016, 0.24325883388519287, -0.10399176180362701, 0.1764550507068634, 0.4089451730251312, 0.0306655615568161, -0.15218715369701385, -0.6105571389198303, -0.29428744316101074, -0.07567915320396423, 0.3454975187778473, -0.49481201171875, 0.30831044912338257, -0.1701166182756424, -0.3128437101840973, 0.43910619616508484, 0.0723465085029602, 0.10430587083101273, -0.02630760706961155, 0.20559410750865936, 0.186318039894104, 0.43119731545448303, 0.038021814078092575, -0.005857009440660477, 0.1899631917476654, 0.06277817487716675, -0.31845253705978394, 0.23126140236854553, 0.30986103415489197, 0.07724857330322266, 0.4150647521018982, -0.34802427887916565, 0.4107922911643982, -0.29168057441711426, -0.07067399471998215, 0.47547993063926697, 0.3326416015625, -0.41482704877853394, -0.24874064326286316, 0.36725014448165894, 0.02771618403494358, 0.07121174782514572, 0.13025584816932678, -0.34746670722961426, -0.19653159379959106, 0.1350276917219162, 0.08115813881158829, -0.3373188078403473, 0.08884590864181519, 0.037877071648836136, -0.47193989157676697, -0.8052657246589661, 0.20728664100170135, 0.3810938894748688, -0.09562081098556519, -0.34648212790489197, -0.13760937750339508, 0.254058837890625, 0.44279399514198303, -0.13041415810585022, 0.5964741110801697, 0.01040127407759428, 0.4383191466331482, 0.27013757824897766, 0.35238486528396606, 0.5644145607948303, 0.17955218255519867, 0.39865434169769287, 0.0858612209558487, -0.22568552196025848, 0.006601032335311174, -0.15003184974193573, -0.3203526437282562, 0.09198610484600067, 0.1569037139415741, 0.6418200135231018, -0.2064160853624344, 0.29773271083831787, 0.0741392970085144, 0.3141094148159027, -0.11605915427207947, 0.26304545998573303, 0.05299216881394386, 0.40510961413383484, -0.1645260900259018, 0.4275737702846527, -0.19831305742263794, -0.059744786471128464, 0.3730693757534027, 0.12946972250938416, 0.06591485440731049, 0.0026743034832179546, 0.7715229392051697, 0.37810957431793213, 0.03606550395488739, -0.13005276024341583, 0.06347007304430008, 0.05449104309082031, -0.14689093828201294, 0.18161411583423615, 0.5464445352554321, -0.28611674904823303, -0.3553691804409027, 0.25846123695373535, -0.12521563470363617, 0.03896479681134224, 0.08660908788442612, 0.22943437099456787, -0.33579134941101074, 0.15364576876163483, 0.24545849859714508, 0.12137623876333237, 0.08301323652267456, 0.12118128687143326, 0.017303064465522766, 0.021334221586585045, 0.7360582947731018, 0.33854594826698303, -0.028487255796790123, 0.4572400450706482, -0.3861565887928009, 0.05488006770610809, 0.3043164610862732, 0.17513836920261383, 0.6036168336868286, 0.09628556668758392, -0.016407214105129242, -0.10085316747426987, -0.07561121135950089, 0.6035606265068054, -0.3398951590061188, 0.26094093918800354, 0.1219162717461586, -0.32246118783950806, -0.38421308994293213, 0.15129250288009644, 0.3915630280971527, -0.3651685118675232, -0.1611739695072174, 0.2798863351345062, -0.13766750693321228, -0.09175019711256027, 0.31908535957336426, 0.023382965475320816, 0.26466450095176697, 0.26519614458084106, 0.04061907157301903, 0.1048886626958847, -0.45851215720176697, 0.18840910494327545, 0.5006392598152161, -0.1450648307800293, -0.3847174346446991, 0.4281841218471527, 0.12069005519151688, -0.20526684820652008, -0.06628548353910446, -0.2700878083705902, -0.2489190399646759, -0.29210060834884644, 0.04938045144081116, 0.26037919521331787, 0.42128071188926697, 0.13811463117599487, 0.04269601032137871, -0.13996084034442902, 0.4788946807384491, 0.39469507336616516, 0.2680872976779938, -0.08945103734731674, -0.21502363681793213, -0.13715443015098572, 0.49641498923301697, 0.31185752153396606, -0.2661518156528473, 0.12037201970815659, 0.39540502429008484, -0.4782795011997223, 0.23368434607982635, 0.18803255259990692, -0.32501864433288574, 0.0602932870388031, 0.18794973194599152, 0.10011886805295944, -0.18554747104644775, 0.6393529176712036, -0.39935624599456787, 0.03438317030668259, 0.22119742631912231, 0.04337542876601219, -0.10127238184213638, 0.26272422075271606, -0.026716306805610657, 0.3815741240978241, 0.39801347255706787, 0.37298583984375, -0.08854534476995468, 0.03511805459856987, 0.07762055844068527, 0.45649799704551697, 0.22481496632099152, 0.4476093351840973, 0.5736597776412964, -0.30500873923301697, -0.3735576570034027, -0.08450121432542801, -0.29109272360801697, 0.07468991726636887, 0.24051886796951294, -0.023308753967285156, -0.19271449744701385, 0.4883904755115509, 0.1763647049665451, 0.21627049148082733, 0.061786048114299774, -0.12110258638858795, -0.08729855716228485, 0.2450665980577469, -0.20312941074371338, 0.01367915328592062, -0.29400795698165894, 0.01149129867553711, 0.3820286691188812, 0.5389018654823303, -0.44847989082336426, -0.07749909162521362, 0.43010109663009644, 0.08133973926305771, 0.23992758989334106, 0.06538552045822144, 0.3234991729259491, 0.0012188961263746023, 0.2903851866722107, -0.5572124123573303, 0.4453639090061188, 0.6228219866752625, -0.09398691356182098, -0.23359279334545135, -0.10254909843206406, 0.38501158356666565, -0.1292693018913269, 0.5685023069381714, 0.4117431640625, -0.047555796802043915, -0.01954742521047592, 0.2546495199203491, 0.3372015655040741, 0.4093531668186188, 0.27408158779144287, 0.06232769787311554, 0.4308825135231018, 0.013965205289423466, 0.09060493111610413, -0.15039414167404175, -0.31853926181793213, -0.20217253267765045, 0.11001082509756088, -0.21586930751800537, 0.0624014213681221, -0.30649927258491516, 0.6825529336929321, -0.16824018955230713, 0.48771587014198303, -0.05120779201388359, -0.3873034119606018, -0.21017856895923615, -0.017940722405910492, 0.28201454877853394, 0.33619609475135803, 0.12781976163387299, -0.3462347686290741, -0.17263445258140564, 0.3575085997581482, 0.14479325711727142, 0.27448955178260803, 0.1018771156668663, 0.15755341947078705, 0.2538580596446991, 0.048348475247621536, 0.001695582759566605, 0.6337826251983643, -0.17661766707897186, 0.09960807114839554, 0.34014892578125, -0.06126765161752701, -0.2829686105251312, -0.11151625216007233, 0.3436243236064911, 0.6498766541481018, 0.4685893952846527, 0.4108051359653473, -0.2572503387928009, 0.19876420497894287, 0.13549724221229553, 0.0045819031074643135, 0.1106719970703125, 0.20771870017051697, -0.03323023021221161, 0.25866538286209106, 0.01400475762784481, 0.14519360661506653, 0.01824389025568962, 0.10280649363994598, -0.11864230781793594, -0.1085791364312172, 0.14212818443775177, -0.1934860646724701, -0.37964189052581787, -0.2215776890516281, 0.3301497995853424, 0.31020957231521606, -0.2082984298467636, -0.0192066989839077, 0.6531404256820679, -0.05998736992478371, 0.1439978927373886, -0.09000296145677567, -0.07064292579889297, -0.18810683488845825, 0.13312852382659912, -0.06545589119195938, -0.3261622488498688, -0.21396872401237488, -0.061067331582307816, 0.14658476412296295, 0.1755628138780594, 0.04424172267317772, -0.10770516842603683, -0.37176191806793213, 0.33311542868614197, 0.5682951211929321, -0.38330078125, 0.12169772386550903, 0.13550205528736115, 0.23339763283729553, 0.3456324636936188, 4.284539699554443, 0.2200157791376114, 0.544189453125, -0.0844661295413971, -0.10732635855674744, 0.2927984893321991, 0.2319934219121933, 0.09014611691236496, -0.03312567621469498, 0.032398827373981476, -0.31755146384239197, 0.44549882411956787, -0.10897932201623917, 0.26820775866508484, -0.060533154755830765, 0.3046649992465973, 0.2874530851840973, -0.17072416841983795, 0.16673055291175842, 0.44610273838043213, -0.47802734375, 0.45786646008491516, 0.36010098457336426, 0.16690364480018616, 0.18910929560661316, 0.3272351622581482, 0.2379654347896576, 0.007548683788627386, 0.3611297607421875, 0.28670141100883484, 0.3124919831752777, 0.1843518763780594, 0.25550520420074463, 0.14360690116882324, -0.23479260504245758, 0.2581538259983063, 0.5988512635231018, 0.0729077011346817, 0.09696760028600693, -0.03759482130408287, -0.22836945950984955, -0.0936223566532135, 0.3371453583240509, 0.44595175981521606, 0.2637835144996643, 0.038473378866910934, 0.13471302390098572, 0.4989142119884491, -0.10473456978797913, 0.18413423001766205, 0.21653346717357635, -0.5605147480964661, 0.16675688326358795, -0.48057153820991516, 0.43685752153396606, 0.5213815569877625, 0.08104083687067032, 0.16164076328277588, 0.02691233716905117, 0.3640490174293518, 0.08747266232967377, 0.1058734580874443, 0.23281167447566986, 0.2332892119884491, -0.4068756103515625, 0.06511873751878738, -0.10154950618743896, 0.32104170322418213, -0.008097447454929352, 0.017626510933041573, 0.6126066446304321, 0.35691753029823303, 0.5281275510787964, -0.2938794493675232, -0.15749961137771606, 0.09114743769168854, -0.16725178062915802, 0.11560018360614777, 0.20628999173641205, 0.029014678671956062, 0.2802177369594574, -0.2746678292751312, 0.29531699419021606, 0.24418820440769196, -0.020312359556555748, 0.36849814653396606, 0.1423693150281906, -0.4147081971168518, 0.5529206991195679, 0.12470566481351852, 0.25533413887023926, -0.1931595504283905, 0.1526801437139511, 0.20796063542366028, 0.06630204617977142, -0.15867012739181519, 0.22838842868804932, -4.022512435913086, 0.2735691964626312, 0.301239013671875, 0.118896484375, -0.0565476156771183, 0.2094268798828125, 0.15526513755321503, 0.72705078125, -0.7852205038070679, 0.37594443559646606, 0.1805829554796219, 0.13097110390663147, -0.14404095709323883, 0.17859679460525513, 0.030021265149116516, 0.21234412491321564, -0.36818334460258484, 0.23100842535495758, 0.13331805169582367, -0.14330893754959106, 0.049244631081819534, 0.2065546065568924, 0.17189426720142365, -0.3055468201637268, -0.14598053693771362, 0.06280156224966049, 0.006171527784317732, -0.1640489548444748, 0.11378660053014755, -0.10079273581504822, 0.0756753608584404, -0.26789212226867676, 0.32552939653396606, -0.043992895632982254, -0.03916007652878761, 0.8579615354537964, 0.6052053570747375, -0.07195322215557098, 0.07071103900671005, 0.20466533303260803, -0.027603551745414734, -0.10234060138463974, 0.42864668369293213, 0.18425951898097992, -0.13775715231895447, 0.16091899573802948, 0.08498568087816238, -0.2015943080186844, -0.10155577212572098, 0.013227964751422405, -0.20822344720363617, 0.3696803152561188, -0.4354633390903473, 0.14067348837852478, 0.4097065031528473, -0.03105785883963108, 0.18410928547382355, 0.09914227575063705, 0.3364161550998688, -0.05742564797401428, 0.3722325265407562, -0.20612536370754242, 0.20162080228328705, -0.20109347999095917, -0.19091396033763885, 0.15667001903057098, 0.5392231345176697, 0.17569845914840698, 0.20031730830669403, -0.4921886920928955, -0.1754586100578308, 0.09507841616868973, 0.05216016247868538, -0.4747539460659027, 0.10530271381139755, -0.17937950789928436, 0.012386071495711803, -0.23876953125, 0.5675883889198303, 0.010750419460237026, -0.3309551179409027, 0.1911631077528, -0.41661953926086426, 0.08707910031080246, 2.1907894611358643, 0.24288137257099152, 2.198756217956543, 0.3313341736793518, -0.29026880860328674, 0.2828160226345062, -0.5240510702133179, 0.31428608298301697, -0.08435168862342834, 0.27728271484375, -0.0902264267206192, 0.22532320022583008, 0.24966269731521606, -0.15450768172740936, 0.29874420166015625, -0.2821751534938812, 0.4297967255115509, -1.2092798948287964, 0.19874973595142365, 0.15130625665187836, 0.4470086395740509, 0.016818499192595482, 0.0368133969604969, 0.18855927884578705, 0.1689498871564865, -0.1627131998538971, 0.06289893388748169, -0.016446568071842194, 0.1671728789806366, -0.19460737705230713, -0.022446468472480774, 0.15522605180740356, 0.3957391083240509, 0.1382104903459549, -0.2983165681362152, 0.11945267766714096, 0.3077649474143982, 4.693050861358643, 0.5632516741752625, -0.18961374461650848, -0.03660447895526886, -0.01535315252840519, -0.021193252876400948, 0.3298211395740509, 0.005238382611423731, 0.08648139238357544, 0.45672929286956787, 0.5685713887214661, 0.3793736398220062, -0.009226196445524693, 0.004594376310706139, 0.3460597097873688, 0.05996503308415413, -0.06329546123743057, 0.20386625826358795, 0.4298352599143982, 0.07834775745868683, 0.4714483916759491, 0.5004047751426697, 0.14989320933818817, -0.1502820998430252, 0.08897289633750916, 0.26620644330978394, 0.37149208784103394, 0.21561633050441742, -0.13234348595142365, 0.23387828469276428, -0.1242523193359375, 5.430612564086914, 0.10545966774225235, 0.10092524439096451, -0.1920270472764969, -0.08889386802911758, 0.23138749599456787, -0.18530595302581787, -0.2278263121843338, -0.4435199797153473, 0.0009954351698979735, 0.01680157333612442, 0.27173012495040894, -0.07574290037155151, 0.23161573708057404, 0.07229333370923996, -0.21626000106334686, -0.15140533447265625, -0.17257489264011383, -0.29343295097351074, -0.15047013759613037, 0.36529541015625, -0.400177001953125, -0.06736687570810318, -0.38366177678108215, -0.3070325255393982, 0.04124922677874565, -0.13761259615421295, 0.038434479385614395, 0.06330519914627075, -0.034046072512865067, 0.3038555085659027, 0.056708384305238724, -0.5967760682106018, 0.3193616271018982, -0.15353675186634064, 0.11268243938684464, 0.41478848457336426, 0.2350175827741623, 0.3003941476345062, 0.1251998245716095, 0.5825130939483643, 0.15265986323356628, -0.15289467573165894, 0.06463191658258438, -0.16758206486701965, 0.1729479283094406, 0.004467612598091364, 0.057007238268852234, -0.2467908412218094, 0.15486907958984375, -0.017945602536201477, 0.010384459048509598, 0.8929250836372375, -0.11760511249303818, 0.2967481017112732, 0.5249537229537964, 0.005247166380286217, -0.04418342933058739, -0.017705991864204407, -0.3079432547092438, 0.6652639508247375, 0.23535878956317902, 0.016385022550821304, 0.1428575962781906, 0.11801549047231674, 0.41245630383491516, 0.25111350417137146, -0.09639739990234375, 0.6665424704551697, -0.18805855512619019, -0.04710153490304947, 0.025404073297977448, 0.09384609758853912, 0.5961978435516357, -0.14071333408355713, 0.039062388241291046, 0.09347563982009888, -0.17232432961463928, 0.15444102883338928, -0.13743551075458527, -0.32361483573913574, -0.016870059072971344, -0.058998409658670425, 0.27453935146331787, -0.10361523181200027, 0.18685069680213928, 0.03808724135160446, 0.022515397518873215, 0.27358970046043396, 0.07945110648870468, 0.2534661591053009, 0.001937063061632216, -0.08857094496488571, 0.08444155007600784, -0.3256884217262268, 0.10166569799184799, -0.11169180274009705, 0.5210635662078857, 0.266885370016098, -0.03384650498628616, -0.1532568484544754, 0.1496076136827469, -0.16373343765735626, -0.15300188958644867, 0.22388017177581787, -0.051410071551799774, -0.15400435030460358, 0.000996401417069137, 0.054337527602910995, -0.0558905154466629, 0.3482151925563812, 0.5380859375, 0.060190603137016296, -0.23623095452785492, -0.07120411098003387]}\n"
     ]
    }
   ],
   "source": [
    "ds.schema()\n",
    "count = 0\n",
    "for row in ds.iter_rows():\n",
    "    print(row)\n",
    "    count = count + 1\n",
    "    if count > 0:\n",
    "        break"
   ]
  },
  {
   "cell_type": "markdown",
   "metadata": {},
   "source": [
    "create the index for wikipedia data"
   ]
  },
  {
   "cell_type": "markdown",
   "metadata": {},
   "source": [
    "\n",
    "<br>\n",
    "indexes = pc.list_indexes().indexes<br>\n",
    "print(\"Indexes:\")<br>\n",
    "print(indexes)<br>\n",
    "print(\"\\n\")<br>\n"
   ]
  },
  {
   "cell_type": "markdown",
   "metadata": {},
   "source": [
    "\n",
    "<br>\n",
    "embeddings = CohereEmbeddings(model=\"multilingual-22-12\", cohere_api_key=cohere_api_key)<br>\n",
    "print(\"Embeddings:\")<br>\n",
    "print(embeddings)<br>\n",
    "print(\"\\n\")<br>\n"
   ]
  },
  {
   "cell_type": "markdown",
   "metadata": {},
   "source": [
    "get the index from existing srcs"
   ]
  },
  {
   "cell_type": "markdown",
   "metadata": {},
   "source": [
    "\n",
    "<br>\n",
    "vectorstore = Pinecone.from_existing_index(index_name=pc_index,<br>\n",
    "        embedding=embeddings)<br>\n",
    "retriever = vectorstore.as_retriever()<br>\n",
    "print(\"Vector store:\")<br>\n",
    "print(vectorstore)<br>\n",
    "print(\"\\n\")<br>\n",
    "def fetch_wiki_page(id):<br>\n",
    "    url = f\"https://en.wikipedia.org/w/api.php?action=query&prop=extracts&format=json&pageids={id}\"<br>\n",
    "    response = requests.get(url)<br>\n",
    "    data = response.json()<br>\n",
    "    page_content = list(data['query']['pages'].values())[0]['extract']<br>\n",
    "    return page_content<br>\n",
    "def fetch_url(x):<br>\n",
    "    urls = [doc.metadata['url'] for doc in x['context']]<br>\n",
    "    ids = [url.split('=')[-1] for url in urls]<br>\n",
    "    contents = [fetch_wikipedia_page(id)[:32000] for id in ids]<br>\n",
    "    return {\"context\": contents, \"question\": x[\"question\"]}<br>\n"
   ]
  },
  {
   "cell_type": "markdown",
   "metadata": {},
   "source": [
    "RAG prompt"
   ]
  },
  {
   "cell_type": "markdown",
   "metadata": {},
   "source": [
    "template = \n",
    "Answer the question based only on the following context:<br>\n",
    "    {context}<br>\n",
    "    Question: {question}<br>\n",
    "<br>\n",
    "rompt = ChatPromptTemplate.from_template(template)"
   ]
  },
  {
   "cell_type": "markdown",
   "metadata": {},
   "source": [
    "RAG model<br>\n",
    "odel = ChatOpenAI(temperature=0, model=\"gpt-4-1106-preview\", openai_api_key=openai_api_key)"
   ]
  },
  {
   "cell_type": "markdown",
   "metadata": {},
   "source": [
    "\n",
    "<br>\n",
    "chain = (<br>\n",
    "    RunnableParallel({\"context\": retriever, \"question\": RunnablePassthrough()})<br>\n",
    "    | RunnableLambda(fetch_url)<br>\n",
    "    | prompt<br>\n",
    "    | model<br>\n",
    "    | StrOutputParser()<br>\n",
    ")<br>\n"
   ]
  },
  {
   "cell_type": "code",
   "execution_count": 7,
   "metadata": {},
   "outputs": [
    {
     "name": "stdout",
     "output_type": "stream",
     "text": [
      "Names:\n",
      "['trailz-ai', 'cohere-wikipedia', 'canopy--trailz-ai']\n",
      "\n",
      "\n"
     ]
    }
   ],
   "source": [
    "# upsert the data\n",
    "from pinecone.grpc import PineconeGRPC\n",
    "from pinecone import ServerlessSpec\n",
    "\n",
    "pc = PineconeGRPC()\n",
    "index_name = 'cohere-wikipedia'\n",
    "\n",
    "# ensure index DNE\n",
    "indexes = pc.list_indexes().indexes\n",
    "names = [_['name'] for _ in indexes]\n",
    "print(\"Names:\")\n",
    "print(names)\n",
    "print(\"\\n\")"
   ]
  },
  {
   "cell_type": "code",
   "execution_count": 8,
   "metadata": {},
   "outputs": [],
   "source": [
    "# insert the new wiki index\n",
    "if index_name not in names:\n",
    "    pc.create_index(\n",
    "        name=index_name,\n",
    "        dimension=768,\n",
    "        metric=\"cosine\",\n",
    "        spec=ServerlessSpec(cloud='aws', region='us-west-2'))\n"
   ]
  },
  {
   "cell_type": "code",
   "execution_count": 9,
   "metadata": {},
   "outputs": [],
   "source": [
    "import numpy as np\n",
    "from retry import retry\n",
    "from tqdm.auto import tqdm\n",
    "\n",
    "# process the data into vector format\n",
    "def create_pc_dataset(dataset):\n",
    "    pcDataList = []\n",
    "    for row in dataset.iter_rows():\n",
    "        newRow = {}\n",
    "        newRow['_id'] = row['id']\n",
    "        newRow['metadata'] = {}\n",
    "        newRow['metadata']['title'] = row['title']\n",
    "        newRow['metadata']['text'] = row['text']\n",
    "        newRow['vector'] = row['emb']\n",
    "        pcDataList.append(newRow)\n",
    "    return pcDataList\n",
    "        \n",
    "def upload_batches(dataset):\n",
    "    batch_size=350\n",
    "\n",
    "# insert records async\n",
    "def upload(batch):\n",
    "    client = PineconeGRPC()\n",
    "    index = client.Index(index_name)\n",
    "\n",
    "    # sets the returned and error vectors\n",
    "    total_vectors = 0\n",
    "    num_failures = 0\n",
    "\n",
    "    # data = process_data(large_batch).to_dict(orient='records')\n",
    "    data = batch.to_dict(orient='records')\n",
    "\n",
    "    # this will retry up to 2 times, exponential wait increase from min to 4-10\n",
    "    @retry(stop=stop_after_attempt(2), wait=wait_exponential(multiplier=1, min=4, max=10))\n",
    "    def send_batch(batch):\n",
    "        return index.upsert(vectors=batch)\n",
    "\n",
    "    try:\n",
    "        result = send_batch(data)\n",
    "        total_vectors += result.upserted_count\n",
    "    except Exception as e:\n",
    "        logging.exception(e)\n",
    "        num_failures += len(data)\n",
    "    return {'upserted': np.array([total_vectors]), 'errors': np.array([num_failures])}\n",
    "\n",
    "class Upserter:\n",
    "    def __call__(self, large_batch):\n",
    "        return upload_batches(large_batch)"
   ]
  },
  {
   "cell_type": "code",
   "execution_count": 13,
   "metadata": {},
   "outputs": [
    {
     "name": "stdout",
     "output_type": "stream",
     "text": [
      "env: RAY_memory_monitor_refresh_ms=0\n"
     ]
    }
   ],
   "source": [
    "# set the env var for ray memory error\n",
    "%env RAY_memory_monitor_refresh_ms=0"
   ]
  },
  {
   "cell_type": "code",
   "execution_count": 15,
   "metadata": {},
   "outputs": [
    {
     "name": "stderr",
     "output_type": "stream",
     "text": [
      "2024-03-06 14:16:54,649\tINFO set_read_parallelism.py:115 -- Using autodetected parallelism=1879 for stage ReadParquet to satisfy output blocks of size at most DataContext.get_current().target_max_block_size=128.0MiB.\n",
      "2024-03-06 14:16:54,650\tINFO set_read_parallelism.py:122 -- To satisfy the requested parallelism of 1879, each read task output is split into 2 smaller blocks.\n",
      "2024-03-06 14:16:54,650\tINFO streaming_executor.py:112 -- Executing DAG InputDataBuffer[Input] -> TaskPoolMapOperator[ReadParquet]\n",
      "2024-03-06 14:16:54,651\tINFO streaming_executor.py:113 -- Execution config: ExecutionOptions(resource_limits=ExecutionResources(cpu=None, gpu=None, object_store_memory=None), exclude_resources=ExecutionResources(cpu=0, gpu=0, object_store_memory=0), locality_with_output=False, preserve_order=False, actor_locality_enabled=True, verbose_progress=False)\n",
      "2024-03-06 14:16:54,652\tINFO streaming_executor.py:115 -- Tip: For detailed progress reporting, run `ray.data.DataContext.get_current().execution_options.verbose_progress = True`\n"
     ]
    },
    {
     "name": "stdout",
     "output_type": "stream",
     "text": [
      "env: RAY_memory_monitor_refresh_ms=0\n"
     ]
    },
    {
     "data": {
      "application/vnd.jupyter.widget-view+json": {
       "model_id": "",
       "version_major": 2,
       "version_minor": 0
      },
      "text/plain": [
       "Running 0:   0%|          | 0/253 [00:00<?, ?it/s]"
      ]
     },
     "metadata": {},
     "output_type": "display_data"
    },
    {
     "name": "stderr",
     "output_type": "stream",
     "text": [
      "2024-03-06 14:16:57,560\tERROR streaming_executor_state.py:496 -- An exception was raised from a task of operator \"ReadParquet->SplitBlocks(2)\". Dataset execution will now abort. To ignore this exception and continue, set DataContext.max_errored_blocks.\n"
     ]
    },
    {
     "ename": "OutOfMemoryError",
     "evalue": "Task was killed due to the node running low on memory.\nMemory on the node (IP: 192.168.171.61, ID: 10b7b0c14f00c92c055af9a8ec33a63d7b3462b1753c797f7a6a772c) where the task (task ID: 7c4e8f70143305f87a049962c9c8200d358c85ee01000000, name=ReadParquet->SplitBlocks(2), pid=92481, memory used=0.11GB) was running was 29.71GB / 31.07GB (0.95626), which exceeds the memory usage threshold of 0.95. Ray killed this worker (ID: 4a8e175254fb452f0a7ef76e1ef486ab1d3961fd7742e7fd8e8acc99) because it was the most recently scheduled task; to see more information about memory usage on this node, use `ray logs raylet.out -ip 192.168.171.61`. To see the logs of the worker, use `ray logs worker-4a8e175254fb452f0a7ef76e1ef486ab1d3961fd7742e7fd8e8acc99*out -ip 192.168.171.61. Top 10 memory users:\nPID\tMEM(GB)\tCOMMAND\n77966\t14.95\t/home/jandogonzales/Development/anaconda3/envs/trailz/bin/python -m ipykernel_launcher -f /home/jand...\n3438\t1.11\tio.elementary.appcenter\n5036\t0.66\t/opt/google/chrome/chrome\n16943\t0.61\t/opt/google/chrome/chrome --type=renderer --crashpad-handler-pid=5044 --enable-crash-reporter=, --di...\n5091\t0.34\t/opt/google/chrome/chrome --type=gpu-process --crashpad-handler-pid=5044 --enable-crash-reporter=, -...\n7633\t0.32\t/opt/google/chrome/chrome --type=renderer --crashpad-handler-pid=5044 --enable-crash-reporter=, --ex...\n29406\t0.30\t/home/jandogonzales/.dropbox-dist/dropbox-lnx.x86_64-194.4.6267/dropbox\n6613\t0.26\t/opt/google/chrome/chrome --type=renderer --crashpad-handler-pid=5044 --enable-crash-reporter=, --ex...\n18526\t0.20\t/opt/google/chrome/chrome --type=renderer --crashpad-handler-pid=5044 --enable-crash-reporter=, --di...\n26835\t0.16\t/opt/google/chrome/chrome --type=renderer --crashpad-handler-pid=5044 --enable-crash-reporter=, --ex...\nRefer to the documentation on how to address the out of memory issue: https://docs.ray.io/en/latest/ray-core/scheduling/ray-oom-prevention.html. Consider provisioning more memory on this node or reducing task parallelism by requesting more CPUs per task. To adjust the kill threshold, set the environment variable `RAY_memory_usage_threshold` when starting Ray. To disable worker killing, set the environment variable `RAY_memory_monitor_refresh_ms` to zero.",
     "output_type": "error",
     "traceback": [
      "\u001b[0;31m---------------------------------------------------------------------------\u001b[0m",
      "\u001b[0;31mOutOfMemoryError\u001b[0m                          Traceback (most recent call last)",
      "Cell \u001b[0;32mIn[15], line 9\u001b[0m\n\u001b[1;32m      6\u001b[0m get_ipython()\u001b[38;5;241m.\u001b[39mrun_line_magic(\u001b[38;5;124m'\u001b[39m\u001b[38;5;124menv\u001b[39m\u001b[38;5;124m'\u001b[39m, \u001b[38;5;124m'\u001b[39m\u001b[38;5;124mRAY_memory_monitor_refresh_ms=0\u001b[39m\u001b[38;5;124m'\u001b[39m)\n\u001b[1;32m      8\u001b[0m \u001b[38;5;66;03m# create the new dataset\u001b[39;00m\n\u001b[0;32m----> 9\u001b[0m pcDataList \u001b[38;5;241m=\u001b[39m \u001b[43mcreate_pc_dataset\u001b[49m\u001b[43m(\u001b[49m\u001b[43mds\u001b[49m\u001b[43m)\u001b[49m\n\u001b[1;32m     10\u001b[0m pcDataset \u001b[38;5;241m=\u001b[39m Dataset\u001b[38;5;241m.\u001b[39mfrom_list(pcDataList)\n\u001b[1;32m     12\u001b[0m \u001b[38;5;66;03m# create a pkl file for use later so we don't keep reloading\u001b[39;00m\n",
      "Cell \u001b[0;32mIn[9], line 8\u001b[0m, in \u001b[0;36mcreate_pc_dataset\u001b[0;34m(dataset)\u001b[0m\n\u001b[1;32m      6\u001b[0m \u001b[38;5;28;01mdef\u001b[39;00m \u001b[38;5;21mcreate_pc_dataset\u001b[39m(dataset):\n\u001b[1;32m      7\u001b[0m     pcDataList \u001b[38;5;241m=\u001b[39m []\n\u001b[0;32m----> 8\u001b[0m \u001b[43m    \u001b[49m\u001b[38;5;28;43;01mfor\u001b[39;49;00m\u001b[43m \u001b[49m\u001b[43mrow\u001b[49m\u001b[43m \u001b[49m\u001b[38;5;129;43;01min\u001b[39;49;00m\u001b[43m \u001b[49m\u001b[43mdataset\u001b[49m\u001b[38;5;241;43m.\u001b[39;49m\u001b[43miter_rows\u001b[49m\u001b[43m(\u001b[49m\u001b[43m)\u001b[49m\u001b[43m:\u001b[49m\n\u001b[1;32m      9\u001b[0m \u001b[43m        \u001b[49m\u001b[43mnewRow\u001b[49m\u001b[43m \u001b[49m\u001b[38;5;241;43m=\u001b[39;49m\u001b[43m \u001b[49m\u001b[43m{\u001b[49m\u001b[43m}\u001b[49m\n\u001b[1;32m     10\u001b[0m \u001b[43m        \u001b[49m\u001b[43mnewRow\u001b[49m\u001b[43m[\u001b[49m\u001b[38;5;124;43m'\u001b[39;49m\u001b[38;5;124;43m_id\u001b[39;49m\u001b[38;5;124;43m'\u001b[39;49m\u001b[43m]\u001b[49m\u001b[43m \u001b[49m\u001b[38;5;241;43m=\u001b[39;49m\u001b[43m \u001b[49m\u001b[43mrow\u001b[49m\u001b[43m[\u001b[49m\u001b[38;5;124;43m'\u001b[39;49m\u001b[38;5;124;43mid\u001b[39;49m\u001b[38;5;124;43m'\u001b[39;49m\u001b[43m]\u001b[49m\n",
      "File \u001b[0;32m~/Development/anaconda3/envs/trailz/lib/python3.11/site-packages/ray/data/iterator.py:225\u001b[0m, in \u001b[0;36mDataIterator.iter_rows.<locals>._wrapped_iterator\u001b[0;34m()\u001b[0m\n\u001b[1;32m    224\u001b[0m \u001b[38;5;28;01mdef\u001b[39;00m \u001b[38;5;21m_wrapped_iterator\u001b[39m():\n\u001b[0;32m--> 225\u001b[0m \u001b[43m    \u001b[49m\u001b[38;5;28;43;01mfor\u001b[39;49;00m\u001b[43m \u001b[49m\u001b[43mbatch\u001b[49m\u001b[43m \u001b[49m\u001b[38;5;129;43;01min\u001b[39;49;00m\u001b[43m \u001b[49m\u001b[43mbatch_iterable\u001b[49m\u001b[43m:\u001b[49m\n\u001b[1;32m    226\u001b[0m \u001b[43m        \u001b[49m\u001b[43mbatch\u001b[49m\u001b[43m \u001b[49m\u001b[38;5;241;43m=\u001b[39;49m\u001b[43m \u001b[49m\u001b[43mBlockAccessor\u001b[49m\u001b[38;5;241;43m.\u001b[39;49m\u001b[43mfor_block\u001b[49m\u001b[43m(\u001b[49m\u001b[43mBlockAccessor\u001b[49m\u001b[38;5;241;43m.\u001b[39;49m\u001b[43mbatch_to_block\u001b[49m\u001b[43m(\u001b[49m\u001b[43mbatch\u001b[49m\u001b[43m)\u001b[49m\u001b[43m)\u001b[49m\n\u001b[1;32m    227\u001b[0m \u001b[43m        \u001b[49m\u001b[38;5;28;43;01mfor\u001b[39;49;00m\u001b[43m \u001b[49m\u001b[43mrow\u001b[49m\u001b[43m \u001b[49m\u001b[38;5;129;43;01min\u001b[39;49;00m\u001b[43m \u001b[49m\u001b[43mbatch\u001b[49m\u001b[38;5;241;43m.\u001b[39;49m\u001b[43miter_rows\u001b[49m\u001b[43m(\u001b[49m\u001b[43mpublic_row_format\u001b[49m\u001b[38;5;241;43m=\u001b[39;49m\u001b[38;5;28;43;01mTrue\u001b[39;49;00m\u001b[43m)\u001b[49m\u001b[43m:\u001b[49m\n",
      "File \u001b[0;32m~/Development/anaconda3/envs/trailz/lib/python3.11/site-packages/ray/data/iterator.py:164\u001b[0m, in \u001b[0;36mDataIterator.iter_batches.<locals>._create_iterator\u001b[0;34m()\u001b[0m\n\u001b[1;32m    159\u001b[0m time_start \u001b[38;5;241m=\u001b[39m time\u001b[38;5;241m.\u001b[39mperf_counter()\n\u001b[1;32m    160\u001b[0m \u001b[38;5;66;03m# Iterate through the dataset from the start each time\u001b[39;00m\n\u001b[1;32m    161\u001b[0m \u001b[38;5;66;03m# _iterator_gen is called.\u001b[39;00m\n\u001b[1;32m    162\u001b[0m \u001b[38;5;66;03m# This allows multiple iterations of the dataset without\u001b[39;00m\n\u001b[1;32m    163\u001b[0m \u001b[38;5;66;03m# needing to explicitly call `iter_batches()` multiple times.\u001b[39;00m\n\u001b[0;32m--> 164\u001b[0m block_iterator, stats, blocks_owned_by_consumer \u001b[38;5;241m=\u001b[39m \u001b[38;5;28;43mself\u001b[39;49m\u001b[38;5;241;43m.\u001b[39;49m\u001b[43m_to_block_iterator\u001b[49m\u001b[43m(\u001b[49m\u001b[43m)\u001b[49m\n\u001b[1;32m    166\u001b[0m iterator \u001b[38;5;241m=\u001b[39m \u001b[38;5;28miter\u001b[39m(\n\u001b[1;32m    167\u001b[0m     iter_batches(\n\u001b[1;32m    168\u001b[0m         block_iterator,\n\u001b[0;32m   (...)\u001b[0m\n\u001b[1;32m    179\u001b[0m     )\n\u001b[1;32m    180\u001b[0m )\n\u001b[1;32m    182\u001b[0m dataset_tag \u001b[38;5;241m=\u001b[39m \u001b[38;5;28mself\u001b[39m\u001b[38;5;241m.\u001b[39m_get_dataset_tag()\n",
      "File \u001b[0;32m~/Development/anaconda3/envs/trailz/lib/python3.11/site-packages/ray/data/_internal/iterator/iterator_impl.py:33\u001b[0m, in \u001b[0;36mDataIteratorImpl._to_block_iterator\u001b[0;34m(self)\u001b[0m\n\u001b[1;32m     25\u001b[0m \u001b[38;5;28;01mdef\u001b[39;00m \u001b[38;5;21m_to_block_iterator\u001b[39m(\n\u001b[1;32m     26\u001b[0m     \u001b[38;5;28mself\u001b[39m,\n\u001b[1;32m     27\u001b[0m ) \u001b[38;5;241m-\u001b[39m\u001b[38;5;241m>\u001b[39m Tuple[\n\u001b[0;32m   (...)\u001b[0m\n\u001b[1;32m     30\u001b[0m     \u001b[38;5;28mbool\u001b[39m,\n\u001b[1;32m     31\u001b[0m ]:\n\u001b[1;32m     32\u001b[0m     ds \u001b[38;5;241m=\u001b[39m \u001b[38;5;28mself\u001b[39m\u001b[38;5;241m.\u001b[39m_base_dataset\n\u001b[0;32m---> 33\u001b[0m     block_iterator, stats, executor \u001b[38;5;241m=\u001b[39m \u001b[43mds\u001b[49m\u001b[38;5;241;43m.\u001b[39;49m\u001b[43m_plan\u001b[49m\u001b[38;5;241;43m.\u001b[39;49m\u001b[43mexecute_to_iterator\u001b[49m\u001b[43m(\u001b[49m\u001b[43m)\u001b[49m\n\u001b[1;32m     34\u001b[0m     ds\u001b[38;5;241m.\u001b[39m_current_executor \u001b[38;5;241m=\u001b[39m executor\n\u001b[1;32m     35\u001b[0m     \u001b[38;5;28;01mreturn\u001b[39;00m block_iterator, stats, \u001b[38;5;28;01mFalse\u001b[39;00m\n",
      "File \u001b[0;32m~/Development/anaconda3/envs/trailz/lib/python3.11/site-packages/ray/data/_internal/plan.py:559\u001b[0m, in \u001b[0;36mExecutionPlan.execute_to_iterator\u001b[0;34m(self, allow_clear_input_blocks, force_read)\u001b[0m\n\u001b[1;32m    557\u001b[0m gen \u001b[38;5;241m=\u001b[39m \u001b[38;5;28miter\u001b[39m(block_iter)\n\u001b[1;32m    558\u001b[0m \u001b[38;5;28;01mtry\u001b[39;00m:\n\u001b[0;32m--> 559\u001b[0m     block_iter \u001b[38;5;241m=\u001b[39m itertools\u001b[38;5;241m.\u001b[39mchain([\u001b[38;5;28;43mnext\u001b[39;49m\u001b[43m(\u001b[49m\u001b[43mgen\u001b[49m\u001b[43m)\u001b[49m], gen)\n\u001b[1;32m    560\u001b[0m \u001b[38;5;28;01mexcept\u001b[39;00m \u001b[38;5;167;01mStopIteration\u001b[39;00m:\n\u001b[1;32m    561\u001b[0m     \u001b[38;5;28;01mpass\u001b[39;00m\n",
      "File \u001b[0;32m~/Development/anaconda3/envs/trailz/lib/python3.11/site-packages/ray/data/_internal/execution/legacy_compat.py:61\u001b[0m, in \u001b[0;36mexecute_to_legacy_block_iterator\u001b[0;34m(executor, plan, allow_clear_input_blocks, dataset_uuid)\u001b[0m\n\u001b[1;32m     57\u001b[0m \u001b[38;5;250m\u001b[39m\u001b[38;5;124;03m\"\"\"Same as execute_to_legacy_bundle_iterator but returning blocks and metadata.\"\"\"\u001b[39;00m\n\u001b[1;32m     58\u001b[0m bundle_iter \u001b[38;5;241m=\u001b[39m execute_to_legacy_bundle_iterator(\n\u001b[1;32m     59\u001b[0m     executor, plan, allow_clear_input_blocks, dataset_uuid\n\u001b[1;32m     60\u001b[0m )\n\u001b[0;32m---> 61\u001b[0m \u001b[43m\u001b[49m\u001b[38;5;28;43;01mfor\u001b[39;49;00m\u001b[43m \u001b[49m\u001b[43mbundle\u001b[49m\u001b[43m \u001b[49m\u001b[38;5;129;43;01min\u001b[39;49;00m\u001b[43m \u001b[49m\u001b[43mbundle_iter\u001b[49m\u001b[43m:\u001b[49m\n\u001b[1;32m     62\u001b[0m \u001b[43m    \u001b[49m\u001b[38;5;28;43;01mfor\u001b[39;49;00m\u001b[43m \u001b[49m\u001b[43mblock\u001b[49m\u001b[43m,\u001b[49m\u001b[43m \u001b[49m\u001b[43mmetadata\u001b[49m\u001b[43m \u001b[49m\u001b[38;5;129;43;01min\u001b[39;49;00m\u001b[43m \u001b[49m\u001b[43mbundle\u001b[49m\u001b[38;5;241;43m.\u001b[39;49m\u001b[43mblocks\u001b[49m\u001b[43m:\u001b[49m\n\u001b[1;32m     63\u001b[0m \u001b[43m        \u001b[49m\u001b[38;5;28;43;01myield\u001b[39;49;00m\u001b[43m \u001b[49m\u001b[43mblock\u001b[49m\u001b[43m,\u001b[49m\u001b[43m \u001b[49m\u001b[43mmetadata\u001b[49m\n",
      "File \u001b[0;32m~/Development/anaconda3/envs/trailz/lib/python3.11/site-packages/ray/data/_internal/execution/interfaces/executor.py:37\u001b[0m, in \u001b[0;36mOutputIterator.__next__\u001b[0;34m(self)\u001b[0m\n\u001b[1;32m     36\u001b[0m \u001b[38;5;28;01mdef\u001b[39;00m \u001b[38;5;21m__next__\u001b[39m(\u001b[38;5;28mself\u001b[39m) \u001b[38;5;241m-\u001b[39m\u001b[38;5;241m>\u001b[39m RefBundle:\n\u001b[0;32m---> 37\u001b[0m     \u001b[38;5;28;01mreturn\u001b[39;00m \u001b[38;5;28;43mself\u001b[39;49m\u001b[38;5;241;43m.\u001b[39;49m\u001b[43mget_next\u001b[49m\u001b[43m(\u001b[49m\u001b[43m)\u001b[49m\n",
      "File \u001b[0;32m~/Development/anaconda3/envs/trailz/lib/python3.11/site-packages/ray/data/_internal/execution/streaming_executor.py:145\u001b[0m, in \u001b[0;36mStreamingExecutor.execute.<locals>.StreamIterator.get_next\u001b[0;34m(self, output_split_idx)\u001b[0m\n\u001b[1;32m    143\u001b[0m \u001b[38;5;28;01mdef\u001b[39;00m \u001b[38;5;21mget_next\u001b[39m(\u001b[38;5;28mself\u001b[39m, output_split_idx: Optional[\u001b[38;5;28mint\u001b[39m] \u001b[38;5;241m=\u001b[39m \u001b[38;5;28;01mNone\u001b[39;00m) \u001b[38;5;241m-\u001b[39m\u001b[38;5;241m>\u001b[39m RefBundle:\n\u001b[1;32m    144\u001b[0m     \u001b[38;5;28;01mtry\u001b[39;00m:\n\u001b[0;32m--> 145\u001b[0m         item \u001b[38;5;241m=\u001b[39m \u001b[38;5;28;43mself\u001b[39;49m\u001b[38;5;241;43m.\u001b[39;49m\u001b[43m_outer\u001b[49m\u001b[38;5;241;43m.\u001b[39;49m\u001b[43m_output_node\u001b[49m\u001b[38;5;241;43m.\u001b[39;49m\u001b[43mget_output_blocking\u001b[49m\u001b[43m(\u001b[49m\n\u001b[1;32m    146\u001b[0m \u001b[43m            \u001b[49m\u001b[43moutput_split_idx\u001b[49m\n\u001b[1;32m    147\u001b[0m \u001b[43m        \u001b[49m\u001b[43m)\u001b[49m\n\u001b[1;32m    148\u001b[0m         \u001b[38;5;28;01mif\u001b[39;00m \u001b[38;5;28mself\u001b[39m\u001b[38;5;241m.\u001b[39m_outer\u001b[38;5;241m.\u001b[39m_global_info:\n\u001b[1;32m    149\u001b[0m             \u001b[38;5;28mself\u001b[39m\u001b[38;5;241m.\u001b[39m_outer\u001b[38;5;241m.\u001b[39m_global_info\u001b[38;5;241m.\u001b[39mupdate(\u001b[38;5;241m1\u001b[39m, dag\u001b[38;5;241m.\u001b[39m_estimated_output_blocks)\n",
      "File \u001b[0;32m~/Development/anaconda3/envs/trailz/lib/python3.11/site-packages/ray/data/_internal/execution/streaming_executor_state.py:320\u001b[0m, in \u001b[0;36mOpState.get_output_blocking\u001b[0;34m(self, output_split_idx)\u001b[0m\n\u001b[1;32m    317\u001b[0m \u001b[38;5;28;01mwhile\u001b[39;00m \u001b[38;5;28;01mTrue\u001b[39;00m:\n\u001b[1;32m    318\u001b[0m     \u001b[38;5;66;03m# Check if StreamingExecutor has caught an exception or is done execution.\u001b[39;00m\n\u001b[1;32m    319\u001b[0m     \u001b[38;5;28;01mif\u001b[39;00m \u001b[38;5;28mself\u001b[39m\u001b[38;5;241m.\u001b[39m_exception \u001b[38;5;129;01mis\u001b[39;00m \u001b[38;5;129;01mnot\u001b[39;00m \u001b[38;5;28;01mNone\u001b[39;00m:\n\u001b[0;32m--> 320\u001b[0m         \u001b[38;5;28;01mraise\u001b[39;00m \u001b[38;5;28mself\u001b[39m\u001b[38;5;241m.\u001b[39m_exception\n\u001b[1;32m    321\u001b[0m     \u001b[38;5;28;01melif\u001b[39;00m \u001b[38;5;28mself\u001b[39m\u001b[38;5;241m.\u001b[39m_finished \u001b[38;5;129;01mand\u001b[39;00m \u001b[38;5;129;01mnot\u001b[39;00m \u001b[38;5;28mself\u001b[39m\u001b[38;5;241m.\u001b[39moutqueue\u001b[38;5;241m.\u001b[39mhas_next(output_split_idx):\n\u001b[1;32m    322\u001b[0m         \u001b[38;5;28;01mraise\u001b[39;00m \u001b[38;5;167;01mStopIteration\u001b[39;00m()\n",
      "File \u001b[0;32m~/Development/anaconda3/envs/trailz/lib/python3.11/site-packages/ray/data/_internal/execution/streaming_executor.py:212\u001b[0m, in \u001b[0;36mStreamingExecutor.run\u001b[0;34m(self)\u001b[0m\n\u001b[1;32m    206\u001b[0m \u001b[38;5;250m\u001b[39m\u001b[38;5;124;03m\"\"\"Run the control loop in a helper thread.\u001b[39;00m\n\u001b[1;32m    207\u001b[0m \n\u001b[1;32m    208\u001b[0m \u001b[38;5;124;03mResults are returned via the output node's outqueue.\u001b[39;00m\n\u001b[1;32m    209\u001b[0m \u001b[38;5;124;03m\"\"\"\u001b[39;00m\n\u001b[1;32m    210\u001b[0m \u001b[38;5;28;01mtry\u001b[39;00m:\n\u001b[1;32m    211\u001b[0m     \u001b[38;5;66;03m# Run scheduling loop until complete.\u001b[39;00m\n\u001b[0;32m--> 212\u001b[0m     \u001b[38;5;28;01mwhile\u001b[39;00m \u001b[38;5;28;43mself\u001b[39;49m\u001b[38;5;241;43m.\u001b[39;49m\u001b[43m_scheduling_loop_step\u001b[49m\u001b[43m(\u001b[49m\u001b[38;5;28;43mself\u001b[39;49m\u001b[38;5;241;43m.\u001b[39;49m\u001b[43m_topology\u001b[49m\u001b[43m)\u001b[49m \u001b[38;5;129;01mand\u001b[39;00m \u001b[38;5;129;01mnot\u001b[39;00m \u001b[38;5;28mself\u001b[39m\u001b[38;5;241m.\u001b[39m_shutdown:\n\u001b[1;32m    213\u001b[0m         \u001b[38;5;28;01mpass\u001b[39;00m\n\u001b[1;32m    214\u001b[0m \u001b[38;5;28;01mexcept\u001b[39;00m \u001b[38;5;167;01mException\u001b[39;00m \u001b[38;5;28;01mas\u001b[39;00m e:\n\u001b[1;32m    215\u001b[0m     \u001b[38;5;66;03m# Propagate it to the result iterator.\u001b[39;00m\n",
      "File \u001b[0;32m~/Development/anaconda3/envs/trailz/lib/python3.11/site-packages/ray/data/_internal/execution/streaming_executor.py:260\u001b[0m, in \u001b[0;36mStreamingExecutor._scheduling_loop_step\u001b[0;34m(self, topology)\u001b[0m\n\u001b[1;32m    255\u001b[0m     logger\u001b[38;5;241m.\u001b[39mget_logger()\u001b[38;5;241m.\u001b[39minfo(\u001b[38;5;124m\"\u001b[39m\u001b[38;5;124mScheduling loop step...\u001b[39m\u001b[38;5;124m\"\u001b[39m)\n\u001b[1;32m    257\u001b[0m \u001b[38;5;66;03m# Note: calling process_completed_tasks() is expensive since it incurs\u001b[39;00m\n\u001b[1;32m    258\u001b[0m \u001b[38;5;66;03m# ray.wait() overhead, so make sure to allow multiple dispatch per call for\u001b[39;00m\n\u001b[1;32m    259\u001b[0m \u001b[38;5;66;03m# greater parallelism.\u001b[39;00m\n\u001b[0;32m--> 260\u001b[0m num_errored_blocks \u001b[38;5;241m=\u001b[39m \u001b[43mprocess_completed_tasks\u001b[49m\u001b[43m(\u001b[49m\n\u001b[1;32m    261\u001b[0m \u001b[43m    \u001b[49m\u001b[43mtopology\u001b[49m\u001b[43m,\u001b[49m\u001b[43m \u001b[49m\u001b[38;5;28;43mself\u001b[39;49m\u001b[38;5;241;43m.\u001b[39;49m\u001b[43m_backpressure_policies\u001b[49m\u001b[43m,\u001b[49m\u001b[43m \u001b[49m\u001b[38;5;28;43mself\u001b[39;49m\u001b[38;5;241;43m.\u001b[39;49m\u001b[43m_max_errored_blocks\u001b[49m\n\u001b[1;32m    262\u001b[0m \u001b[43m\u001b[49m\u001b[43m)\u001b[49m\n\u001b[1;32m    263\u001b[0m \u001b[38;5;28;01mif\u001b[39;00m \u001b[38;5;28mself\u001b[39m\u001b[38;5;241m.\u001b[39m_max_errored_blocks \u001b[38;5;241m>\u001b[39m \u001b[38;5;241m0\u001b[39m:\n\u001b[1;32m    264\u001b[0m     \u001b[38;5;28mself\u001b[39m\u001b[38;5;241m.\u001b[39m_max_errored_blocks \u001b[38;5;241m-\u001b[39m\u001b[38;5;241m=\u001b[39m num_errored_blocks\n",
      "File \u001b[0;32m~/Development/anaconda3/envs/trailz/lib/python3.11/site-packages/ray/data/_internal/execution/streaming_executor_state.py:497\u001b[0m, in \u001b[0;36mprocess_completed_tasks\u001b[0;34m(topology, backpressure_policies, max_errored_blocks)\u001b[0m\n\u001b[1;32m    491\u001b[0m             error_message \u001b[38;5;241m+\u001b[39m\u001b[38;5;241m=\u001b[39m (\n\u001b[1;32m    492\u001b[0m                 \u001b[38;5;124m\"\u001b[39m\u001b[38;5;124m Dataset execution will now abort.\u001b[39m\u001b[38;5;124m\"\u001b[39m\n\u001b[1;32m    493\u001b[0m                 \u001b[38;5;124m\"\u001b[39m\u001b[38;5;124m To ignore this exception and continue, set\u001b[39m\u001b[38;5;124m\"\u001b[39m\n\u001b[1;32m    494\u001b[0m                 \u001b[38;5;124m\"\u001b[39m\u001b[38;5;124m DataContext.max_errored_blocks.\u001b[39m\u001b[38;5;124m\"\u001b[39m\n\u001b[1;32m    495\u001b[0m             )\n\u001b[1;32m    496\u001b[0m             logger\u001b[38;5;241m.\u001b[39mget_logger()\u001b[38;5;241m.\u001b[39merror(error_message)\n\u001b[0;32m--> 497\u001b[0m             \u001b[38;5;28;01mraise\u001b[39;00m e \u001b[38;5;28;01mfrom\u001b[39;00m \u001b[38;5;28;01mNone\u001b[39;00m\n\u001b[1;32m    498\u001b[0m \u001b[38;5;28;01melse\u001b[39;00m:\n\u001b[1;32m    499\u001b[0m     \u001b[38;5;28;01massert\u001b[39;00m \u001b[38;5;28misinstance\u001b[39m(task, MetadataOpTask)\n",
      "File \u001b[0;32m~/Development/anaconda3/envs/trailz/lib/python3.11/site-packages/ray/data/_internal/execution/streaming_executor_state.py:464\u001b[0m, in \u001b[0;36mprocess_completed_tasks\u001b[0;34m(topology, backpressure_policies, max_errored_blocks)\u001b[0m\n\u001b[1;32m    462\u001b[0m \u001b[38;5;28;01mif\u001b[39;00m \u001b[38;5;28misinstance\u001b[39m(task, DataOpTask):\n\u001b[1;32m    463\u001b[0m     \u001b[38;5;28;01mtry\u001b[39;00m:\n\u001b[0;32m--> 464\u001b[0m         num_blocks_read \u001b[38;5;241m=\u001b[39m \u001b[43mtask\u001b[49m\u001b[38;5;241;43m.\u001b[39;49m\u001b[43mon_data_ready\u001b[49m\u001b[43m(\u001b[49m\n\u001b[1;32m    465\u001b[0m \u001b[43m            \u001b[49m\u001b[43mmax_blocks_to_read_per_op\u001b[49m\u001b[38;5;241;43m.\u001b[39;49m\u001b[43mget\u001b[49m\u001b[43m(\u001b[49m\u001b[43mstate\u001b[49m\u001b[43m,\u001b[49m\u001b[43m \u001b[49m\u001b[38;5;28;43;01mNone\u001b[39;49;00m\u001b[43m)\u001b[49m\n\u001b[1;32m    466\u001b[0m \u001b[43m        \u001b[49m\u001b[43m)\u001b[49m\n\u001b[1;32m    467\u001b[0m         \u001b[38;5;28;01mif\u001b[39;00m state \u001b[38;5;129;01min\u001b[39;00m max_blocks_to_read_per_op:\n\u001b[1;32m    468\u001b[0m             max_blocks_to_read_per_op[state] \u001b[38;5;241m-\u001b[39m\u001b[38;5;241m=\u001b[39m num_blocks_read\n",
      "File \u001b[0;32m~/Development/anaconda3/envs/trailz/lib/python3.11/site-packages/ray/data/_internal/execution/interfaces/physical_operator.py:102\u001b[0m, in \u001b[0;36mDataOpTask.on_data_ready\u001b[0;34m(self, max_blocks_to_read)\u001b[0m\n\u001b[1;32m    100\u001b[0m     \u001b[38;5;28;01mexcept\u001b[39;00m \u001b[38;5;167;01mException\u001b[39;00m \u001b[38;5;28;01mas\u001b[39;00m ex:\n\u001b[1;32m    101\u001b[0m         \u001b[38;5;28mself\u001b[39m\u001b[38;5;241m.\u001b[39m_task_done_callback(ex)\n\u001b[0;32m--> 102\u001b[0m         \u001b[38;5;28;01mraise\u001b[39;00m ex \u001b[38;5;28;01mfrom\u001b[39;00m \u001b[38;5;28;01mNone\u001b[39;00m\n\u001b[1;32m    103\u001b[0m \u001b[38;5;28mself\u001b[39m\u001b[38;5;241m.\u001b[39m_output_ready_callback(\n\u001b[1;32m    104\u001b[0m     RefBundle([(block_ref, meta)], owns_blocks\u001b[38;5;241m=\u001b[39m\u001b[38;5;28;01mTrue\u001b[39;00m)\n\u001b[1;32m    105\u001b[0m )\n\u001b[1;32m    106\u001b[0m num_blocks_read \u001b[38;5;241m+\u001b[39m\u001b[38;5;241m=\u001b[39m \u001b[38;5;241m1\u001b[39m\n",
      "File \u001b[0;32m~/Development/anaconda3/envs/trailz/lib/python3.11/site-packages/ray/data/_internal/execution/interfaces/physical_operator.py:98\u001b[0m, in \u001b[0;36mDataOpTask.on_data_ready\u001b[0;34m(self, max_blocks_to_read)\u001b[0m\n\u001b[1;32m     90\u001b[0m \u001b[38;5;28;01mexcept\u001b[39;00m \u001b[38;5;167;01mStopIteration\u001b[39;00m:\n\u001b[1;32m     91\u001b[0m     \u001b[38;5;66;03m# The generator should always yield 2 values (block and metadata)\u001b[39;00m\n\u001b[1;32m     92\u001b[0m     \u001b[38;5;66;03m# each time. If we get a StopIteration here, it means an error\u001b[39;00m\n\u001b[0;32m   (...)\u001b[0m\n\u001b[1;32m     95\u001b[0m     \u001b[38;5;66;03m# TODO(hchen): Ray Core should have a better interface for\u001b[39;00m\n\u001b[1;32m     96\u001b[0m     \u001b[38;5;66;03m# detecting and obtaining the exception.\u001b[39;00m\n\u001b[1;32m     97\u001b[0m     \u001b[38;5;28;01mtry\u001b[39;00m:\n\u001b[0;32m---> 98\u001b[0m         \u001b[43mray\u001b[49m\u001b[38;5;241;43m.\u001b[39;49m\u001b[43mget\u001b[49m\u001b[43m(\u001b[49m\u001b[43mblock_ref\u001b[49m\u001b[43m)\u001b[49m\n\u001b[1;32m     99\u001b[0m         \u001b[38;5;28;01massert\u001b[39;00m \u001b[38;5;28;01mFalse\u001b[39;00m, \u001b[38;5;124m\"\u001b[39m\u001b[38;5;124mAbove ray.get should raise an exception.\u001b[39m\u001b[38;5;124m\"\u001b[39m\n\u001b[1;32m    100\u001b[0m     \u001b[38;5;28;01mexcept\u001b[39;00m \u001b[38;5;167;01mException\u001b[39;00m \u001b[38;5;28;01mas\u001b[39;00m ex:\n",
      "File \u001b[0;32m~/Development/anaconda3/envs/trailz/lib/python3.11/site-packages/ray/_private/auto_init_hook.py:22\u001b[0m, in \u001b[0;36mwrap_auto_init.<locals>.auto_init_wrapper\u001b[0;34m(*args, **kwargs)\u001b[0m\n\u001b[1;32m     19\u001b[0m \u001b[38;5;129m@wraps\u001b[39m(fn)\n\u001b[1;32m     20\u001b[0m \u001b[38;5;28;01mdef\u001b[39;00m \u001b[38;5;21mauto_init_wrapper\u001b[39m(\u001b[38;5;241m*\u001b[39margs, \u001b[38;5;241m*\u001b[39m\u001b[38;5;241m*\u001b[39mkwargs):\n\u001b[1;32m     21\u001b[0m     auto_init_ray()\n\u001b[0;32m---> 22\u001b[0m     \u001b[38;5;28;01mreturn\u001b[39;00m \u001b[43mfn\u001b[49m\u001b[43m(\u001b[49m\u001b[38;5;241;43m*\u001b[39;49m\u001b[43margs\u001b[49m\u001b[43m,\u001b[49m\u001b[43m \u001b[49m\u001b[38;5;241;43m*\u001b[39;49m\u001b[38;5;241;43m*\u001b[39;49m\u001b[43mkwargs\u001b[49m\u001b[43m)\u001b[49m\n",
      "File \u001b[0;32m~/Development/anaconda3/envs/trailz/lib/python3.11/site-packages/ray/_private/client_mode_hook.py:103\u001b[0m, in \u001b[0;36mclient_mode_hook.<locals>.wrapper\u001b[0;34m(*args, **kwargs)\u001b[0m\n\u001b[1;32m    101\u001b[0m     \u001b[38;5;28;01mif\u001b[39;00m func\u001b[38;5;241m.\u001b[39m\u001b[38;5;18m__name__\u001b[39m \u001b[38;5;241m!=\u001b[39m \u001b[38;5;124m\"\u001b[39m\u001b[38;5;124minit\u001b[39m\u001b[38;5;124m\"\u001b[39m \u001b[38;5;129;01mor\u001b[39;00m is_client_mode_enabled_by_default:\n\u001b[1;32m    102\u001b[0m         \u001b[38;5;28;01mreturn\u001b[39;00m \u001b[38;5;28mgetattr\u001b[39m(ray, func\u001b[38;5;241m.\u001b[39m\u001b[38;5;18m__name__\u001b[39m)(\u001b[38;5;241m*\u001b[39margs, \u001b[38;5;241m*\u001b[39m\u001b[38;5;241m*\u001b[39mkwargs)\n\u001b[0;32m--> 103\u001b[0m \u001b[38;5;28;01mreturn\u001b[39;00m \u001b[43mfunc\u001b[49m\u001b[43m(\u001b[49m\u001b[38;5;241;43m*\u001b[39;49m\u001b[43margs\u001b[49m\u001b[43m,\u001b[49m\u001b[43m \u001b[49m\u001b[38;5;241;43m*\u001b[39;49m\u001b[38;5;241;43m*\u001b[39;49m\u001b[43mkwargs\u001b[49m\u001b[43m)\u001b[49m\n",
      "File \u001b[0;32m~/Development/anaconda3/envs/trailz/lib/python3.11/site-packages/ray/_private/worker.py:2626\u001b[0m, in \u001b[0;36mget\u001b[0;34m(object_refs, timeout)\u001b[0m\n\u001b[1;32m   2624\u001b[0m             \u001b[38;5;28;01mraise\u001b[39;00m value\u001b[38;5;241m.\u001b[39mas_instanceof_cause()\n\u001b[1;32m   2625\u001b[0m         \u001b[38;5;28;01melse\u001b[39;00m:\n\u001b[0;32m-> 2626\u001b[0m             \u001b[38;5;28;01mraise\u001b[39;00m value\n\u001b[1;32m   2628\u001b[0m \u001b[38;5;28;01mif\u001b[39;00m is_individual_id:\n\u001b[1;32m   2629\u001b[0m     values \u001b[38;5;241m=\u001b[39m values[\u001b[38;5;241m0\u001b[39m]\n",
      "\u001b[0;31mOutOfMemoryError\u001b[0m: Task was killed due to the node running low on memory.\nMemory on the node (IP: 192.168.171.61, ID: 10b7b0c14f00c92c055af9a8ec33a63d7b3462b1753c797f7a6a772c) where the task (task ID: 7c4e8f70143305f87a049962c9c8200d358c85ee01000000, name=ReadParquet->SplitBlocks(2), pid=92481, memory used=0.11GB) was running was 29.71GB / 31.07GB (0.95626), which exceeds the memory usage threshold of 0.95. Ray killed this worker (ID: 4a8e175254fb452f0a7ef76e1ef486ab1d3961fd7742e7fd8e8acc99) because it was the most recently scheduled task; to see more information about memory usage on this node, use `ray logs raylet.out -ip 192.168.171.61`. To see the logs of the worker, use `ray logs worker-4a8e175254fb452f0a7ef76e1ef486ab1d3961fd7742e7fd8e8acc99*out -ip 192.168.171.61. Top 10 memory users:\nPID\tMEM(GB)\tCOMMAND\n77966\t14.95\t/home/jandogonzales/Development/anaconda3/envs/trailz/bin/python -m ipykernel_launcher -f /home/jand...\n3438\t1.11\tio.elementary.appcenter\n5036\t0.66\t/opt/google/chrome/chrome\n16943\t0.61\t/opt/google/chrome/chrome --type=renderer --crashpad-handler-pid=5044 --enable-crash-reporter=, --di...\n5091\t0.34\t/opt/google/chrome/chrome --type=gpu-process --crashpad-handler-pid=5044 --enable-crash-reporter=, -...\n7633\t0.32\t/opt/google/chrome/chrome --type=renderer --crashpad-handler-pid=5044 --enable-crash-reporter=, --ex...\n29406\t0.30\t/home/jandogonzales/.dropbox-dist/dropbox-lnx.x86_64-194.4.6267/dropbox\n6613\t0.26\t/opt/google/chrome/chrome --type=renderer --crashpad-handler-pid=5044 --enable-crash-reporter=, --ex...\n18526\t0.20\t/opt/google/chrome/chrome --type=renderer --crashpad-handler-pid=5044 --enable-crash-reporter=, --di...\n26835\t0.16\t/opt/google/chrome/chrome --type=renderer --crashpad-handler-pid=5044 --enable-crash-reporter=, --ex...\nRefer to the documentation on how to address the out of memory issue: https://docs.ray.io/en/latest/ray-core/scheduling/ray-oom-prevention.html. Consider provisioning more memory on this node or reducing task parallelism by requesting more CPUs per task. To adjust the kill threshold, set the environment variable `RAY_memory_usage_threshold` when starting Ray. To disable worker killing, set the environment variable `RAY_memory_monitor_refresh_ms` to zero."
     ]
    }
   ],
   "source": [
    "# run the upload batches\n",
    "from datetime import datetime\n",
    "from datasets import Dataset\n",
    "import pickle\n",
    "\n",
    "%env RAY_memory_monitor_refresh_ms=0\n",
    "\n",
    "# create the new dataset\n",
    "pcDataList = create_pc_dataset(ds)\n",
    "pcDataset = Dataset.from_list(pcDataList)\n",
    "\n",
    "# create a pkl file for use later so we don't keep reloading\n",
    "pkl_data = 'pkl_data'\n",
    "with open(pkl_data+'/pc_dataset.pkl', 'wb') as f:\n",
    "    pickle.dump(pcDataset, f)\n",
    "\n",
    "# upload the new ds in batches\n",
    "\n",
    "# new_ds = ds.map_batches(\n",
    "#     Upserter,\n",
    "#     batch_size=batch_size,\n",
    "#     batch_format='pandas',\n",
    "#     zero_copy_batch=True,\n",
    "#     concurrency=1)\n",
    "\n",
    "# before = datetime.now()\n",
    "# summary = new_ds.materialize().sum(['upserted', 'errors'])\n",
    "\n",
    "# summary\n",
    "# duration = datetime.now() - before\n",
    "# print({k: f\"{v: ,}\" for k,v in summary.items()})\n",
    "# print(f\"Duration = {duration}\")"
   ]
  },
  {
   "cell_type": "code",
   "execution_count": null,
   "metadata": {},
   "outputs": [],
   "source": []
  },
  {
   "cell_type": "code",
   "execution_count": null,
   "metadata": {},
   "outputs": [],
   "source": []
  }
 ],
 "metadata": {
  "kernelspec": {
   "display_name": "Python 3 (ipykernel)",
   "language": "python",
   "name": "python3"
  },
  "language_info": {
   "codemirror_mode": {
    "name": "ipython",
    "version": 3
   },
   "file_extension": ".py",
   "mimetype": "text/x-python",
   "name": "python",
   "nbconvert_exporter": "python",
   "pygments_lexer": "ipython3",
   "version": "3.11.8"
  }
 },
 "nbformat": 4,
 "nbformat_minor": 4
}
